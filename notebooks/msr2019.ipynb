{
 "cells": [
  {
   "cell_type": "markdown",
   "metadata": {
    "slideshow": {
     "slide_type": "slide"
    }
   },
   "source": [
    "# Dataset for MSR 2019 (data showcase paper)\n",
    "\n",
    "This notebook covers the data preparation phase, including the following steps:\n",
    "\n",
    "* fetching the content of the Vulas DB from the Vulas backend (or from a local file, where it has been previously saved)\n",
    "* fixing the content of the DB to correct GIT repositories that have been moved (SVN repos are ignored)\n",
    "* ensuring that each GIT repository that appears in the Vulas DB is cloned locally\n",
    "* expand the dataset with negative examples (annotated as 'neg')\n",
    "* creating a dataframe that contains the full annotated dataset\n",
    "* storing the dataframe in a binary (pickle) file\n"
   ]
  },
  {
   "cell_type": "markdown",
   "metadata": {
    "slideshow": {
     "slide_type": "subslide"
    }
   },
   "source": [
    "## Prerequisites"
   ]
  },
  {
   "cell_type": "code",
   "execution_count": 1,
   "metadata": {},
   "outputs": [],
   "source": [
    "# This points to the dataset CSV file (leave out the '_release.csv' suffix!)\n",
    "VULAS_DB_NAME='../dataset/vulas_db_msr2019'\n",
    "\n",
    "GIT_REPO_FOLDER = '/tmp/git-cache-3'\n",
    "SKIP_CLONE_EXISTING=True\n",
    "\n",
    "# This controls how many negatives you want per each positive\n",
    "RATIO_POS_NEG = 1\n",
    "DATASET_NAME='dataset_msr2019'"
   ]
  },
  {
   "cell_type": "code",
   "execution_count": 14,
   "metadata": {},
   "outputs": [],
   "source": [
    "%reload_ext autoreload\n",
    "%autoreload 2\n",
    "\n",
    "import os\n",
    "import sys; sys.path.append(os.path.join(sys.path[0],'acacia'))\n",
    "import pandas as pd\n",
    "from tqdm import tqdm\n",
    "import pickle\n",
    "import matplotlib\n",
    "import matplotlib.pyplot as plt\n",
    "import re\n",
    "from tqdm import tqdm\n",
    "import numpy as np\n",
    "\n",
    "import requests\n",
    "import requests_cache\n",
    "requests_cache.install_cache('requests_cache', expire_after=7 * 24*60*60)\n",
    "\n",
    "# acacia stuff\n",
    "from utils import *\n",
    "from acacia.git import clone_repo, clone_repo_multiple, extract_commit_msg, extract_commit_diff, get_random_commits\n",
    "from acacia.git_temporal import extract_timing_data\n",
    "\n",
    "POS_CLS='pos'\n",
    "NEG_CLS='neg'"
   ]
  },
  {
   "cell_type": "code",
   "execution_count": 4,
   "metadata": {},
   "outputs": [],
   "source": [
    "le = LatexExporter()"
   ]
  },
  {
   "cell_type": "markdown",
   "metadata": {},
   "source": [
    "## Load dataset from CSV file"
   ]
  },
  {
   "cell_type": "code",
   "execution_count": 5,
   "metadata": {},
   "outputs": [
    {
     "name": "stdout",
     "output_type": "stream",
     "text": [
      "Dataset contains 1282 commits\n"
     ]
    }
   ],
   "source": [
    "with open(VULAS_DB_NAME + '_release.csv','r') as f:\n",
    "    data = f.readlines()\n",
    "\n",
    "vulas_db_content=[]\n",
    "for d in data:\n",
    "    line = d.strip().split(',')\n",
    "    vulas_db_content.append(tuple(line))\n",
    "\n",
    "# len(vulas_db_content)\n",
    "print('Dataset contains {} commits'.format(len(vulas_db_content)))"
   ]
  },
  {
   "cell_type": "markdown",
   "metadata": {},
   "source": [
    "### Cloning\n",
    "\n",
    "This clones locally all (external git) repositories that appear in the Vulas DB."
   ]
  },
  {
   "cell_type": "code",
   "execution_count": 6,
   "metadata": {
    "scrolled": true
   },
   "outputs": [],
   "source": [
    "repos_set = set([ r for _,r,_,_ in vulas_db_content ])\n",
    "clone_repo_multiple(repos_set,\n",
    "       output_folder=GIT_REPO_FOLDER,\n",
    "       proxy='',\n",
    "       skip_existing=SKIP_CLONE_EXISTING,\n",
    "       concurrent=8)"
   ]
  },
  {
   "cell_type": "markdown",
   "metadata": {},
   "source": [
    "## Storing commit data in a dataframe (positive instances)"
   ]
  },
  {
   "cell_type": "code",
   "execution_count": 53,
   "metadata": {
    "scrolled": true
   },
   "outputs": [
    {
     "name": "stderr",
     "output_type": "stream",
     "text": [
      "  0%|          | 1/1282 [00:00<08:58,  2.38it/s]"
     ]
    },
    {
     "name": "stdout",
     "output_type": "stream",
     "text": [
      "('v2.4.5.RELEASE', '1496240700', '1496240700', 0)\n"
     ]
    },
    {
     "name": "stderr",
     "output_type": "stream",
     "text": [
      "\r",
      "  0%|          | 2/1282 [00:00<08:57,  2.38it/s]"
     ]
    },
    {
     "name": "stdout",
     "output_type": "stream",
     "text": [
      "('4.0.5', '1521443138', '1520616563', 826575)\n"
     ]
    },
    {
     "name": "stderr",
     "output_type": "stream",
     "text": [
      "\r",
      "  0%|          | 3/1282 [00:01<13:18,  1.60it/s]"
     ]
    },
    {
     "name": "stdout",
     "output_type": "stream",
     "text": [
      "('camel-2.16.5', '1481903857', '1481744113', 159744)\n"
     ]
    },
    {
     "name": "stderr",
     "output_type": "stream",
     "text": [
      "\r",
      "  0%|          | 4/1282 [00:02<15:45,  1.35it/s]"
     ]
    },
    {
     "name": "stdout",
     "output_type": "stream",
     "text": [
      "('jenkins-2.84', '1507571749', '1505309456', 2262293)\n"
     ]
    },
    {
     "name": "stderr",
     "output_type": "stream",
     "text": [
      "\r",
      "  0%|          | 5/1282 [00:03<15:42,  1.35it/s]"
     ]
    },
    {
     "name": "stdout",
     "output_type": "stream",
     "text": [
      "('TOMCAT_9_0_9', '1529499958', '1529350518', 149440)\n"
     ]
    },
    {
     "name": "stderr",
     "output_type": "stream",
     "text": [
      "\r",
      "  0%|          | 6/1282 [00:04<16:02,  1.33it/s]"
     ]
    },
    {
     "name": "stdout",
     "output_type": "stream",
     "text": [
      "('TOMCAT_8_5_10', '1483656695', '1481713005', 1943690)\n"
     ]
    },
    {
     "name": "stderr",
     "output_type": "stream",
     "text": [
      "\r",
      "  1%|          | 7/1282 [00:05<15:16,  1.39it/s]"
     ]
    },
    {
     "name": "stdout",
     "output_type": "stream",
     "text": [
      "('TOMCAT_5_5_29', '1269869757', '1264878855', 4990902)\n"
     ]
    },
    {
     "name": "stderr",
     "output_type": "stream",
     "text": [
      "\r",
      "  1%|          | 8/1282 [00:06<16:39,  1.27it/s]"
     ]
    },
    {
     "name": "stdout",
     "output_type": "stream",
     "text": [
      "('v2.1.2', '1506970635', '0', 0)\n"
     ]
    },
    {
     "name": "stderr",
     "output_type": "stream",
     "text": [
      "\r",
      "  1%|          | 9/1282 [00:07<16:41,  1.27it/s]"
     ]
    },
    {
     "name": "stdout",
     "output_type": "stream",
     "text": [
      "('TOMCAT_8_0_0_RC2', '1379434016', '1378907061', 526955)\n"
     ]
    },
    {
     "name": "stderr",
     "output_type": "stream",
     "text": [
      "\r",
      "  1%|          | 10/1282 [00:07<16:30,  1.28it/s]"
     ]
    },
    {
     "name": "stdout",
     "output_type": "stream",
     "text": [
      "('TOMCAT_9_0_0_M1', '1447365794', '1398424255', 48941539)\n"
     ]
    },
    {
     "name": "stderr",
     "output_type": "stream",
     "text": [
      "\r",
      "  1%|          | 11/1282 [00:08<16:47,  1.26it/s]"
     ]
    },
    {
     "name": "stdout",
     "output_type": "stream",
     "text": [
      "('rel/release-2.3.4', '1541020751', '1540451552', 569199)\n"
     ]
    },
    {
     "name": "stderr",
     "output_type": "stream",
     "text": [
      "\r",
      "  1%|          | 12/1282 [00:09<16:28,  1.28it/s]"
     ]
    },
    {
     "name": "stdout",
     "output_type": "stream",
     "text": [
      "('3.6.9', '1492740314', '1492722956', 17358)\n"
     ]
    },
    {
     "name": "stderr",
     "output_type": "stream",
     "text": [
      "\r",
      "  1%|          | 13/1282 [00:10<17:19,  1.22it/s]"
     ]
    },
    {
     "name": "stdout",
     "output_type": "stream",
     "text": [
      "('v4.3.17.RELEASE', '1525765700', '1523938812', 1826888)\n"
     ]
    },
    {
     "name": "stderr",
     "output_type": "stream",
     "text": [
      "\r",
      "  1%|          | 14/1282 [00:11<17:36,  1.20it/s]"
     ]
    },
    {
     "name": "stdout",
     "output_type": "stream",
     "text": [
      "('TOMCAT_8_0_39', '1478591933', '1478089115', 502818)\n"
     ]
    },
    {
     "name": "stderr",
     "output_type": "stream",
     "text": [
      "\r",
      "  1%|          | 15/1282 [00:12<17:09,  1.23it/s]"
     ]
    },
    {
     "name": "stdout",
     "output_type": "stream",
     "text": [
      "('r1rv57', '1494568533', '1476490865', 18077668)\n"
     ]
    },
    {
     "name": "stderr",
     "output_type": "stream",
     "text": [
      "\r",
      "  1%|          | 16/1282 [00:13<17:28,  1.21it/s]"
     ]
    },
    {
     "name": "stdout",
     "output_type": "stream",
     "text": [
      "('camel-2.13.0', '1395064468', '1389345479', 5718989)\n"
     ]
    },
    {
     "name": "stderr",
     "output_type": "stream",
     "text": [
      "\r",
      "  1%|▏         | 17/1282 [00:14<17:24,  1.21it/s]"
     ]
    },
    {
     "name": "stdout",
     "output_type": "stream",
     "text": [
      "('jackson-databind-2.9.0', '1501388466', '1498840213', 2548253)\n"
     ]
    },
    {
     "name": "stderr",
     "output_type": "stream",
     "text": [
      "\r",
      "  1%|▏         | 18/1282 [00:14<17:22,  1.21it/s]"
     ]
    },
    {
     "name": "stdout",
     "output_type": "stream",
     "text": [
      "('1.0.0-rc0', '1507682601', '1504197728', 3484873)\n"
     ]
    },
    {
     "name": "stderr",
     "output_type": "stream",
     "text": [
      "\r",
      "  1%|▏         | 19/1282 [00:15<17:02,  1.23it/s]"
     ]
    },
    {
     "name": "stdout",
     "output_type": "stream",
     "text": [
      "('STRUTS_2_3_14_3', '1370251048', '1370249236', 1812)\n"
     ]
    },
    {
     "name": "stderr",
     "output_type": "stream",
     "text": [
      "\r",
      "  2%|▏         | 20/1282 [00:15<16:45,  1.26it/s]"
     ]
    },
    {
     "name": "stdout",
     "output_type": "stream",
     "text": [
      "('2.7.4.14', '1492544092', '1492541356', 2736)\n"
     ]
    },
    {
     "name": "stderr",
     "output_type": "stream",
     "text": [
      "\r",
      "  2%|▏         | 21/1282 [00:17<17:09,  1.22it/s]"
     ]
    },
    {
     "name": "stdout",
     "output_type": "stream",
     "text": [
      "('TOMCAT_7_0_23', '1321552355', '1320654402', 897953)\n"
     ]
    },
    {
     "name": "stderr",
     "output_type": "stream",
     "text": [
      "\r",
      "  2%|▏         | 22/1282 [00:17<17:09,  1.22it/s]"
     ]
    },
    {
     "name": "stdout",
     "output_type": "stream",
     "text": [
      "('TOMCAT_9_0_0_M10', '1472655568', '1472597729', 57839)\n"
     ]
    },
    {
     "name": "stderr",
     "output_type": "stream",
     "text": [
      "\r",
      "  2%|▏         | 23/1282 [00:19<17:42,  1.19it/s]"
     ]
    },
    {
     "name": "stdout",
     "output_type": "stream",
     "text": [
      "('cxf-3.0.13', '1491421812', '1483115370', 8306442)\n"
     ]
    },
    {
     "name": "stderr",
     "output_type": "stream",
     "text": [
      "\r",
      "  2%|▏         | 24/1282 [00:20<17:35,  1.19it/s]"
     ]
    },
    {
     "name": "stdout",
     "output_type": "stream",
     "text": [
      "('5.2.5.Final', '1489589716', '1406098929', 83490787)\n"
     ]
    },
    {
     "name": "stderr",
     "output_type": "stream",
     "text": [
      "\r",
      "  2%|▏         | 25/1282 [00:21<17:45,  1.18it/s]"
     ]
    },
    {
     "name": "stdout",
     "output_type": "stream",
     "text": [
      "('camel-2.17.5', '1484689776', '1481278509', 3411267)\n"
     ]
    },
    {
     "name": "stderr",
     "output_type": "stream",
     "text": [
      "\r",
      "  2%|▏         | 26/1282 [00:22<17:43,  1.18it/s]"
     ]
    },
    {
     "name": "stdout",
     "output_type": "stream",
     "text": [
      "('REL_3_11_BETA1', '1406832992', '1392854086', 13978906)\n"
     ]
    },
    {
     "name": "stderr",
     "output_type": "stream",
     "text": [
      "\r",
      "  2%|▏         | 27/1282 [00:22<17:32,  1.19it/s]"
     ]
    },
    {
     "name": "stdout",
     "output_type": "stream",
     "text": [
      "('esapi-2.1.0', '1378171007', '1377737381', 433626)\n"
     ]
    },
    {
     "name": "stderr",
     "output_type": "stream",
     "text": [
      "\r",
      "  2%|▏         | 28/1282 [00:23<17:22,  1.20it/s]"
     ]
    },
    {
     "name": "stdout",
     "output_type": "stream",
     "text": [
      "('rel/release-2.3.3', '1522280789', '1520033796', 2246993)\n"
     ]
    },
    {
     "name": "stderr",
     "output_type": "stream",
     "text": [
      "\r",
      "  2%|▏         | 29/1282 [00:24<17:19,  1.21it/s]"
     ]
    },
    {
     "name": "stdout",
     "output_type": "stream",
     "text": [
      "('wicket-jquery-ui-6.28.1', '1514413771', '1514389926', 23845)\n"
     ]
    },
    {
     "name": "stderr",
     "output_type": "stream",
     "text": [
      "\r",
      "  2%|▏         | 30/1282 [00:24<17:06,  1.22it/s]"
     ]
    },
    {
     "name": "stdout",
     "output_type": "stream",
     "text": [
      "('5.2.5.Final', '1489589716', '1406103198', 83486518)\n"
     ]
    },
    {
     "name": "stderr",
     "output_type": "stream",
     "text": [
      "\r",
      "  2%|▏         | 31/1282 [00:25<17:04,  1.22it/s]"
     ]
    },
    {
     "name": "stdout",
     "output_type": "stream",
     "text": [
      "('v2.7.1', '1498849106', '1454384221', 44464885)\n"
     ]
    },
    {
     "name": "stderr",
     "output_type": "stream",
     "text": [
      "\r",
      "  2%|▏         | 32/1282 [00:25<16:53,  1.23it/s]"
     ]
    },
    {
     "name": "stdout",
     "output_type": "stream",
     "text": [
      "('REL_3_17_BETA1', '1498296431', '1493767933', 4528498)\n"
     ]
    },
    {
     "name": "stderr",
     "output_type": "stream",
     "text": [
      "\r",
      "  3%|▎         | 33/1282 [00:26<16:53,  1.23it/s]"
     ]
    },
    {
     "name": "stdout",
     "output_type": "stream",
     "text": [
      "('activemq-5.11.3', '1446127007', '1446039209', 87798)\n"
     ]
    },
    {
     "name": "stderr",
     "output_type": "stream",
     "text": [
      "\r",
      "  3%|▎         | 34/1282 [00:27<16:40,  1.25it/s]"
     ]
    },
    {
     "name": "stdout",
     "output_type": "stream",
     "text": [
      "('shiro-root-1.3.2', '1473457952', '1473452817', 5135)\n"
     ]
    },
    {
     "name": "stderr",
     "output_type": "stream",
     "text": [
      "\r",
      "  3%|▎         | 35/1282 [00:29<17:23,  1.19it/s]"
     ]
    },
    {
     "name": "stdout",
     "output_type": "stream",
     "text": [
      "('', '0', '1527063620', -1527063620)\n"
     ]
    },
    {
     "name": "stderr",
     "output_type": "stream",
     "text": [
      "\r",
      "  3%|▎         | 36/1282 [00:30<17:27,  1.19it/s]"
     ]
    },
    {
     "name": "stdout",
     "output_type": "stream",
     "text": [
      "('jenkins-2.89', '1509992125', '1508429691', 1562434)\n"
     ]
    },
    {
     "name": "stderr",
     "output_type": "stream",
     "text": [
      "\r",
      "  3%|▎         | 37/1282 [00:30<17:20,  1.20it/s]"
     ]
    },
    {
     "name": "stdout",
     "output_type": "stream",
     "text": [
      "('TOMCAT_7_0_23', '1321552355', '1319904978', 1647377)\n"
     ]
    },
    {
     "name": "stderr",
     "output_type": "stream",
     "text": [
      "\r",
      "  3%|▎         | 38/1282 [00:31<17:06,  1.21it/s]"
     ]
    },
    {
     "name": "stdout",
     "output_type": "stream",
     "text": [
      "('3.20.0', '1496950449', '1496948452', 1997)\n"
     ]
    },
    {
     "name": "stderr",
     "output_type": "stream",
     "text": [
      "\r",
      "  3%|▎         | 39/1282 [00:32<17:05,  1.21it/s]"
     ]
    },
    {
     "name": "stdout",
     "output_type": "stream",
     "text": [
      "('1.565.1-rc1', '1401243057', '1392146256', 9096801)\n"
     ]
    },
    {
     "name": "stderr",
     "output_type": "stream",
     "text": [
      "\r",
      "  3%|▎         | 40/1282 [00:32<16:53,  1.23it/s]"
     ]
    },
    {
     "name": "stdout",
     "output_type": "stream",
     "text": [
      "('1.18-RC1', '1534144445', '1533839963', 304482)\n"
     ]
    },
    {
     "name": "stderr",
     "output_type": "stream",
     "text": [
      "\r",
      "  3%|▎         | 41/1282 [00:33<16:44,  1.23it/s]"
     ]
    },
    {
     "name": "stdout",
     "output_type": "stream",
     "text": [
      "('', '0', '1237993876', -1237993876)\n"
     ]
    },
    {
     "name": "stderr",
     "output_type": "stream",
     "text": [
      "\r",
      "  3%|▎         | 42/1282 [00:33<16:37,  1.24it/s]"
     ]
    },
    {
     "name": "stdout",
     "output_type": "stream",
     "text": [
      "('TOMCAT_7_0_42', '1372751619', '1299673258', 73078361)\n"
     ]
    },
    {
     "name": "stderr",
     "output_type": "stream",
     "text": [
      "\r",
      "  3%|▎         | 43/1282 [00:34<16:21,  1.26it/s]"
     ]
    },
    {
     "name": "stdout",
     "output_type": "stream",
     "text": [
      "('', '0', '1432206700', -1432206700)\n"
     ]
    },
    {
     "name": "stderr",
     "output_type": "stream",
     "text": [
      "\r",
      "  3%|▎         | 44/1282 [00:34<16:16,  1.27it/s]"
     ]
    },
    {
     "name": "stdout",
     "output_type": "stream",
     "text": [
      "('TOMCAT_9_0_0_M19', '1490613205', '1490388680', 224525)\n"
     ]
    },
    {
     "name": "stderr",
     "output_type": "stream",
     "text": [
      "\r",
      "  4%|▎         | 45/1282 [00:35<16:08,  1.28it/s]"
     ]
    },
    {
     "name": "stdout",
     "output_type": "stream",
     "text": [
      "('gerrit-trigger-2.27.5', '1519212287', '1519209107', 3180)\n"
     ]
    },
    {
     "name": "stderr",
     "output_type": "stream",
     "text": [
      "\r",
      "  4%|▎         | 46/1282 [00:35<15:57,  1.29it/s]"
     ]
    },
    {
     "name": "stdout",
     "output_type": "stream",
     "text": [
      "('XSTREAM_1_4_9', '1458083383', '1444153038', 13930345)\n"
     ]
    },
    {
     "name": "stderr",
     "output_type": "stream",
     "text": [
      "\r",
      "  4%|▎         | 47/1282 [00:36<15:49,  1.30it/s]"
     ]
    },
    {
     "name": "stdout",
     "output_type": "stream",
     "text": [
      "('3.1.6.RELEASE', '1394486792', '1394480639', 6153)\n"
     ]
    },
    {
     "name": "stderr",
     "output_type": "stream",
     "text": [
      "\r",
      "  4%|▎         | 48/1282 [00:37<15:52,  1.30it/s]"
     ]
    },
    {
     "name": "stdout",
     "output_type": "stream",
     "text": [
      "('camel-2.18.3', '1488999888', '1488179099', 820789)\n"
     ]
    },
    {
     "name": "stderr",
     "output_type": "stream",
     "text": [
      "\r",
      "  4%|▍         | 49/1282 [00:37<15:42,  1.31it/s]"
     ]
    },
    {
     "name": "stdout",
     "output_type": "stream",
     "text": [
      "('3.3.0.3', '1469040744', '1462308206', 6732538)\n"
     ]
    },
    {
     "name": "stderr",
     "output_type": "stream",
     "text": [
      "\r",
      "  4%|▍         | 50/1282 [00:37<15:32,  1.32it/s]"
     ]
    },
    {
     "name": "stdout",
     "output_type": "stream",
     "text": [
      "('STRUTS_2_3_16', '1385807266', '1373875343', 11931923)\n"
     ]
    },
    {
     "name": "stderr",
     "output_type": "stream",
     "text": [
      "\r",
      "  4%|▍         | 51/1282 [00:38<15:21,  1.34it/s]"
     ]
    },
    {
     "name": "stdout",
     "output_type": "stream",
     "text": [
      "('', '0', '1364568129', -1364568129)\n"
     ]
    },
    {
     "name": "stderr",
     "output_type": "stream",
     "text": [
      "\r",
      "  4%|▍         | 52/1282 [00:39<15:24,  1.33it/s]"
     ]
    },
    {
     "name": "stdout",
     "output_type": "stream",
     "text": [
      "('camel-2.17.6', '1488709476', '1488179471', 530005)\n"
     ]
    },
    {
     "name": "stderr",
     "output_type": "stream",
     "text": [
      "\r",
      "  4%|▍         | 53/1282 [00:39<15:15,  1.34it/s]"
     ]
    },
    {
     "name": "stdout",
     "output_type": "stream",
     "text": [
      "('STRUTS_2_3_14_3', '1370251048', '1370249180', 1868)\n"
     ]
    },
    {
     "name": "stderr",
     "output_type": "stream",
     "text": [
      "\r",
      "  4%|▍         | 54/1282 [00:39<15:08,  1.35it/s]"
     ]
    },
    {
     "name": "stdout",
     "output_type": "stream",
     "text": [
      "('1.3.0', '1442614234', '1440632109', 1982125)\n"
     ]
    },
    {
     "name": "stderr",
     "output_type": "stream",
     "text": [
      "\r",
      "  4%|▍         | 55/1282 [00:40<15:06,  1.35it/s]"
     ]
    },
    {
     "name": "stdout",
     "output_type": "stream",
     "text": [
      "('TOMCAT_7_0_53', '1395716435', '1395059699', 656736)\n"
     ]
    },
    {
     "name": "stderr",
     "output_type": "stream",
     "text": [
      "\r",
      "  4%|▍         | 56/1282 [00:41<15:17,  1.34it/s]"
     ]
    },
    {
     "name": "stdout",
     "output_type": "stream",
     "text": [
      "('6.0.0.Alpha3', '1530696485', '1529917573', 778912)\n"
     ]
    },
    {
     "name": "stderr",
     "output_type": "stream",
     "text": [
      "\r",
      "  4%|▍         | 57/1282 [00:42<15:08,  1.35it/s]"
     ]
    },
    {
     "name": "stdout",
     "output_type": "stream",
     "text": [
      "('', '0', '1395694514', -1395694514)\n"
     ]
    },
    {
     "name": "stderr",
     "output_type": "stream",
     "text": [
      "\r",
      "  5%|▍         | 58/1282 [00:42<15:03,  1.36it/s]"
     ]
    },
    {
     "name": "stdout",
     "output_type": "stream",
     "text": [
      "('email-ext-2.57.1', '1490023083', '1485208614', 4814469)\n"
     ]
    },
    {
     "name": "stderr",
     "output_type": "stream",
     "text": [
      "\r",
      "  5%|▍         | 59/1282 [00:43<14:55,  1.37it/s]"
     ]
    },
    {
     "name": "stdout",
     "output_type": "stream",
     "text": [
      "('', '0', '1437641386', -1437641386)\n"
     ]
    },
    {
     "ename": "KeyboardInterrupt",
     "evalue": "",
     "output_type": "error",
     "traceback": [
      "\u001b[0;31m---------------------------------------------------------------------------\u001b[0m",
      "\u001b[0;31mKeyboardInterrupt\u001b[0m                         Traceback (most recent call last)",
      "\u001b[0;32m<ipython-input-53-5ec828e49157>\u001b[0m in \u001b[0;36m<module>\u001b[0;34m()\u001b[0m\n\u001b[1;32m     27\u001b[0m     \u001b[0;32mreturn\u001b[0m \u001b[0mpd\u001b[0m\u001b[0;34m.\u001b[0m\u001b[0mDataFrame\u001b[0m\u001b[0;34m(\u001b[0m\u001b[0mdata\u001b[0m\u001b[0;34m)\u001b[0m\u001b[0;34m\u001b[0m\u001b[0m\n\u001b[1;32m     28\u001b[0m \u001b[0;34m\u001b[0m\u001b[0m\n\u001b[0;32m---> 29\u001b[0;31m \u001b[0mdf_pos\u001b[0m \u001b[0;34m=\u001b[0m \u001b[0mextract_commit\u001b[0m\u001b[0;34m(\u001b[0m\u001b[0mvulas_db_content\u001b[0m\u001b[0;34m,\u001b[0m \u001b[0mverbose\u001b[0m\u001b[0;34m=\u001b[0m\u001b[0;32mFalse\u001b[0m\u001b[0;34m)\u001b[0m\u001b[0;34m\u001b[0m\u001b[0m\n\u001b[0m\u001b[1;32m     30\u001b[0m \u001b[0mdf_pos\u001b[0m\u001b[0;34m.\u001b[0m\u001b[0mto_pickle\u001b[0m\u001b[0;34m(\u001b[0m\u001b[0mDATASET_NAME\u001b[0m \u001b[0;34m+\u001b[0m \u001b[0;34m'_pos.pd'\u001b[0m\u001b[0;34m)\u001b[0m\u001b[0;34m\u001b[0m\u001b[0m\n",
      "\u001b[0;32m<ipython-input-53-5ec828e49157>\u001b[0m in \u001b[0;36mextract_commit\u001b[0;34m(db_content, verbose)\u001b[0m\n\u001b[1;32m      6\u001b[0m             \u001b[0mcommit_msg\u001b[0m \u001b[0;34m=\u001b[0m \u001b[0mextract_commit_msg\u001b[0m\u001b[0;34m(\u001b[0m\u001b[0mcommit\u001b[0m\u001b[0;34m,\u001b[0m \u001b[0mrepo\u001b[0m\u001b[0;34m,\u001b[0m \u001b[0mGIT_REPO_FOLDER\u001b[0m\u001b[0;34m)\u001b[0m\u001b[0;34m\u001b[0m\u001b[0m\n\u001b[1;32m      7\u001b[0m             \u001b[0mcommit_diff\u001b[0m \u001b[0;34m=\u001b[0m \u001b[0mextract_commit_diff\u001b[0m\u001b[0;34m(\u001b[0m\u001b[0mcommit\u001b[0m\u001b[0;34m,\u001b[0m \u001b[0mrepo\u001b[0m\u001b[0;34m,\u001b[0m \u001b[0mGIT_REPO_FOLDER\u001b[0m\u001b[0;34m)\u001b[0m\u001b[0;34m\u001b[0m\u001b[0m\n\u001b[0;32m----> 8\u001b[0;31m             \u001b[0mfix_tag\u001b[0m\u001b[0;34m,\u001b[0m \u001b[0mfix_tag_timestamp\u001b[0m\u001b[0;34m,\u001b[0m \u001b[0mcommit_timestamp\u001b[0m\u001b[0;34m,\u001b[0m \u001b[0mcommit_tag_delay\u001b[0m \u001b[0;34m=\u001b[0m \u001b[0mextract_timing_data\u001b[0m\u001b[0;34m(\u001b[0m\u001b[0mcommit\u001b[0m\u001b[0;34m,\u001b[0m \u001b[0mrepo\u001b[0m\u001b[0;34m,\u001b[0m \u001b[0mverbose\u001b[0m\u001b[0;34m,\u001b[0m \u001b[0mGIT_REPO_FOLDER\u001b[0m\u001b[0;34m)\u001b[0m\u001b[0;34m\u001b[0m\u001b[0m\n\u001b[0m\u001b[1;32m      9\u001b[0m             data.append({\n\u001b[1;32m     10\u001b[0m                 \u001b[0;34m'msg'\u001b[0m \u001b[0;34m:\u001b[0m \u001b[0mcommit_msg\u001b[0m\u001b[0;34m.\u001b[0m\u001b[0mdecode\u001b[0m\u001b[0;34m(\u001b[0m\u001b[0;34m\"latin-1\"\u001b[0m\u001b[0;34m)\u001b[0m\u001b[0;34m,\u001b[0m\u001b[0;34m\u001b[0m\u001b[0m\n",
      "\u001b[0;32m/mnt/c/Users/i064196/OneDrive - SAP SE/Documents/01_ARCHIVE/2019/msr2019paper/code/notebooks/acacia/git_temporal.py\u001b[0m in \u001b[0;36mextract_timing_data\u001b[0;34m(commit_id, repo_url, verbose, git_cache)\u001b[0m\n\u001b[1;32m     19\u001b[0m \u001b[0;34m\u001b[0m\u001b[0m\n\u001b[1;32m     20\u001b[0m     \u001b[0;31m# get tag info\u001b[0m\u001b[0;34m\u001b[0m\u001b[0;34m\u001b[0m\u001b[0m\n\u001b[0;32m---> 21\u001b[0;31m     \u001b[0mtag\u001b[0m \u001b[0;34m=\u001b[0m \u001b[0mutils\u001b[0m\u001b[0;34m.\u001b[0m\u001b[0mexecute\u001b[0m\u001b[0;34m(\u001b[0m\u001b[0;34m'git tag --sort=taggerdate --contains '\u001b[0m \u001b[0;34m+\u001b[0m \u001b[0mcommit_id\u001b[0m\u001b[0;34m,\u001b[0m  \u001b[0mcwd\u001b[0m\u001b[0;34m=\u001b[0m\u001b[0mcwd\u001b[0m\u001b[0;34m)\u001b[0m\u001b[0;34m[\u001b[0m\u001b[0;36m0\u001b[0m\u001b[0;34m]\u001b[0m\u001b[0;34m\u001b[0m\u001b[0m\n\u001b[0m\u001b[1;32m     22\u001b[0m     \u001b[0;32mif\u001b[0m \u001b[0mtag\u001b[0m \u001b[0;34m!=\u001b[0m \u001b[0;34m''\u001b[0m\u001b[0;34m:\u001b[0m\u001b[0;34m\u001b[0m\u001b[0m\n\u001b[1;32m     23\u001b[0m         \u001b[0mtag_date\u001b[0m \u001b[0;34m=\u001b[0m \u001b[0mutils\u001b[0m\u001b[0;34m.\u001b[0m\u001b[0mexecute\u001b[0m\u001b[0;34m(\u001b[0m\u001b[0;34m'git show -s --format=\"%at\" '\u001b[0m \u001b[0;34m+\u001b[0m \u001b[0mtag\u001b[0m \u001b[0;34m+\u001b[0m \u001b[0;34m'^{commit}'\u001b[0m\u001b[0;34m,\u001b[0m  \u001b[0mcwd\u001b[0m\u001b[0;34m=\u001b[0m\u001b[0mcwd\u001b[0m\u001b[0;34m)\u001b[0m\u001b[0;34m[\u001b[0m\u001b[0;36m0\u001b[0m\u001b[0;34m]\u001b[0m\u001b[0;34m[\u001b[0m\u001b[0;36m1\u001b[0m\u001b[0;34m:\u001b[0m\u001b[0;34m-\u001b[0m\u001b[0;36m1\u001b[0m\u001b[0;34m]\u001b[0m\u001b[0;34m\u001b[0m\u001b[0m\n",
      "\u001b[0;32m/mnt/c/Users/i064196/OneDrive - SAP SE/Documents/01_ARCHIVE/2019/msr2019paper/code/notebooks/acacia/utils.py\u001b[0m in \u001b[0;36mexecute\u001b[0;34m(cmd, cwd, encoding)\u001b[0m\n\u001b[1;32m     19\u001b[0m     \u001b[0;32mtry\u001b[0m\u001b[0;34m:\u001b[0m\u001b[0;34m\u001b[0m\u001b[0m\n\u001b[1;32m     20\u001b[0m         \u001b[0mp2\u001b[0m \u001b[0;34m=\u001b[0m \u001b[0msubprocess\u001b[0m\u001b[0;34m.\u001b[0m\u001b[0mPopen\u001b[0m\u001b[0;34m(\u001b[0m\u001b[0mcmd\u001b[0m\u001b[0;34m.\u001b[0m\u001b[0msplit\u001b[0m\u001b[0;34m(\u001b[0m\u001b[0;34m)\u001b[0m\u001b[0;34m,\u001b[0m \u001b[0mcwd\u001b[0m\u001b[0;34m=\u001b[0m\u001b[0mcwd\u001b[0m\u001b[0;34m,\u001b[0m \u001b[0mstdout\u001b[0m\u001b[0;34m=\u001b[0m\u001b[0msubprocess\u001b[0m\u001b[0;34m.\u001b[0m\u001b[0mPIPE\u001b[0m\u001b[0;34m)\u001b[0m\u001b[0;34m\u001b[0m\u001b[0m\n\u001b[0;32m---> 21\u001b[0;31m         \u001b[0mout\u001b[0m\u001b[0;34m,\u001b[0m \u001b[0merr\u001b[0m \u001b[0;34m=\u001b[0m \u001b[0mp2\u001b[0m\u001b[0;34m.\u001b[0m\u001b[0mcommunicate\u001b[0m\u001b[0;34m(\u001b[0m\u001b[0;34m)\u001b[0m\u001b[0;34m\u001b[0m\u001b[0m\n\u001b[0m\u001b[1;32m     22\u001b[0m         \u001b[0;32mif\u001b[0m \u001b[0merr\u001b[0m\u001b[0;34m:\u001b[0m\u001b[0;34m\u001b[0m\u001b[0m\n\u001b[1;32m     23\u001b[0m             \u001b[0;31m# traceback.print_exc()\u001b[0m\u001b[0;34m\u001b[0m\u001b[0;34m\u001b[0m\u001b[0m\n",
      "\u001b[0;32m/usr/lib/python3.5/subprocess.py\u001b[0m in \u001b[0;36mcommunicate\u001b[0;34m(self, input, timeout)\u001b[0m\n\u001b[1;32m   1057\u001b[0m                 \u001b[0mself\u001b[0m\u001b[0;34m.\u001b[0m\u001b[0m_stdin_write\u001b[0m\u001b[0;34m(\u001b[0m\u001b[0minput\u001b[0m\u001b[0;34m)\u001b[0m\u001b[0;34m\u001b[0m\u001b[0m\n\u001b[1;32m   1058\u001b[0m             \u001b[0;32melif\u001b[0m \u001b[0mself\u001b[0m\u001b[0;34m.\u001b[0m\u001b[0mstdout\u001b[0m\u001b[0;34m:\u001b[0m\u001b[0;34m\u001b[0m\u001b[0m\n\u001b[0;32m-> 1059\u001b[0;31m                 \u001b[0mstdout\u001b[0m \u001b[0;34m=\u001b[0m \u001b[0mself\u001b[0m\u001b[0;34m.\u001b[0m\u001b[0mstdout\u001b[0m\u001b[0;34m.\u001b[0m\u001b[0mread\u001b[0m\u001b[0;34m(\u001b[0m\u001b[0;34m)\u001b[0m\u001b[0;34m\u001b[0m\u001b[0m\n\u001b[0m\u001b[1;32m   1060\u001b[0m                 \u001b[0mself\u001b[0m\u001b[0;34m.\u001b[0m\u001b[0mstdout\u001b[0m\u001b[0;34m.\u001b[0m\u001b[0mclose\u001b[0m\u001b[0;34m(\u001b[0m\u001b[0;34m)\u001b[0m\u001b[0;34m\u001b[0m\u001b[0m\n\u001b[1;32m   1061\u001b[0m             \u001b[0;32melif\u001b[0m \u001b[0mself\u001b[0m\u001b[0;34m.\u001b[0m\u001b[0mstderr\u001b[0m\u001b[0;34m:\u001b[0m\u001b[0;34m\u001b[0m\u001b[0m\n",
      "\u001b[0;31mKeyboardInterrupt\u001b[0m: "
     ]
    }
   ],
   "source": [
    "def extract_commit(db_content, verbose=False):\n",
    "    ''' return a dataframe with commit data '''\n",
    "    data = []\n",
    "    for vuln_id, repo, commit, cls in tqdm(db_content):\n",
    "        try:\n",
    "            commit_msg = extract_commit_msg(commit, repo, GIT_REPO_FOLDER) \n",
    "            commit_diff = extract_commit_diff(commit, repo, GIT_REPO_FOLDER)\n",
    "            fix_tag, fix_tag_timestamp, commit_timestamp, commit_tag_delay = extract_timing_data(commit, repo, verbose, GIT_REPO_FOLDER)\n",
    "            data.append({\n",
    "                'msg' : commit_msg.decode(\"latin-1\"),\n",
    "                'diff': commit_diff.decode(\"latin-1\"),\n",
    "                'cls': cls,\n",
    "                'commit_id': commit,\n",
    "                'repo_url': repo,\n",
    "                'vuln_id': vuln_id,\n",
    "                'in_nvd': False,\n",
    "                'fix_tag': fix_tag,\n",
    "                'fix_tag_timestamp': int(fix_tag_timestamp),\n",
    "                'commit_timestamp' : int(commit_timestamp),\n",
    "                'commit_tag_delay': int(commit_tag_delay)\n",
    "            })\n",
    "        except Exception as e:\n",
    "            pass\n",
    "            print('Skipping %s' % repo)\n",
    "            print(e)\n",
    "\n",
    "    return pd.DataFrame(data)\n",
    "\n",
    "df_pos = extract_commit(vulas_db_content, verbose=False)\n",
    "df_pos.to_pickle(DATASET_NAME + '_pos.pd')"
   ]
  },
  {
   "cell_type": "code",
   "execution_count": 7,
   "metadata": {},
   "outputs": [
    {
     "name": "stdout",
     "output_type": "stream",
     "text": [
      "Successfully processed 1282 (pos) commits.\n"
     ]
    },
    {
     "data": {
      "text/html": [
       "<div>\n",
       "<style scoped>\n",
       "    .dataframe tbody tr th:only-of-type {\n",
       "        vertical-align: middle;\n",
       "    }\n",
       "\n",
       "    .dataframe tbody tr th {\n",
       "        vertical-align: top;\n",
       "    }\n",
       "\n",
       "    .dataframe thead th {\n",
       "        text-align: right;\n",
       "    }\n",
       "</style>\n",
       "<table border=\"1\" class=\"dataframe\">\n",
       "  <thead>\n",
       "    <tr style=\"text-align: right;\">\n",
       "      <th></th>\n",
       "      <th>cls</th>\n",
       "      <th>commit_id</th>\n",
       "      <th>commit_tag_delay</th>\n",
       "      <th>commit_timestamp</th>\n",
       "      <th>diff</th>\n",
       "      <th>fix_tag</th>\n",
       "      <th>fix_tag_timestamp</th>\n",
       "      <th>in_nvd</th>\n",
       "      <th>msg</th>\n",
       "      <th>repo_url</th>\n",
       "      <th>vuln_id</th>\n",
       "    </tr>\n",
       "  </thead>\n",
       "  <tbody>\n",
       "    <tr>\n",
       "      <th>0</th>\n",
       "      <td>pos</td>\n",
       "      <td>57f2ccb66946943fbf3b3f2165eac1c8eb6b1523</td>\n",
       "      <td>0</td>\n",
       "      <td>1496240700</td>\n",
       "      <td>diff --git a/spring-webflow/src/main/java/org/...</td>\n",
       "      <td>v2.4.5.RELEASE</td>\n",
       "      <td>1496240700</td>\n",
       "      <td>False</td>\n",
       "      <td>Use fixed parser for empty value binding expre...</td>\n",
       "      <td>https://github.com/spring-projects/spring-webflow</td>\n",
       "      <td>CVE-2017-4971</td>\n",
       "    </tr>\n",
       "    <tr>\n",
       "      <th>1</th>\n",
       "      <td>pos</td>\n",
       "      <td>8471904a02438c03965d21367890276bc25fa5a6</td>\n",
       "      <td>826575</td>\n",
       "      <td>1520616563</td>\n",
       "      <td>diff --git a/docs/release-notes.html b/docs/re...</td>\n",
       "      <td>4.0.5</td>\n",
       "      <td>1521443138</td>\n",
       "      <td>False</td>\n",
       "      <td>Fix a SimpleBindRequest bug\\n</td>\n",
       "      <td>https://github.com/pingidentity/ldapsdk</td>\n",
       "      <td>CVE-2018-1000134</td>\n",
       "    </tr>\n",
       "    <tr>\n",
       "      <th>2</th>\n",
       "      <td>pos</td>\n",
       "      <td>57d01e2fc8923263df896e9810329ee5b7f9b69</td>\n",
       "      <td>159744</td>\n",
       "      <td>1481744113</td>\n",
       "      <td>diff --git a/components/camel-jackson/src/main...</td>\n",
       "      <td>camel-2.16.5</td>\n",
       "      <td>1481903857</td>\n",
       "      <td>False</td>\n",
       "      <td>CAMEL-10567: Camel-Jackson: Add an option to a...</td>\n",
       "      <td>https://github.com/apache/camel</td>\n",
       "      <td>CVE-2016-8749</td>\n",
       "    </tr>\n",
       "    <tr>\n",
       "      <th>3</th>\n",
       "      <td>pos</td>\n",
       "      <td>d7ea3f40efedd50541a57b943d5f7bbed046d091</td>\n",
       "      <td>2262293</td>\n",
       "      <td>1505309456</td>\n",
       "      <td>diff --git a/core/src/main/java/hudson/slaves/...</td>\n",
       "      <td>jenkins-2.84</td>\n",
       "      <td>1507571749</td>\n",
       "      <td>False</td>\n",
       "      <td>[SECURITY-478] Require RUN_SCRIPTS before conf...</td>\n",
       "      <td>https://github.com/jenkinsci/jenkins/</td>\n",
       "      <td>CVE-2017-1000393</td>\n",
       "    </tr>\n",
       "    <tr>\n",
       "      <th>4</th>\n",
       "      <td>pos</td>\n",
       "      <td>2835bb4e030c1c741ed0847bb3b9c3822e4fbc8a</td>\n",
       "      <td>149440</td>\n",
       "      <td>1529350518</td>\n",
       "      <td>diff --git a/java/org/apache/tomcat/websocket/...</td>\n",
       "      <td>TOMCAT_9_0_9</td>\n",
       "      <td>1529499958</td>\n",
       "      <td>False</td>\n",
       "      <td>Enable host name verification for secure WebSo...</td>\n",
       "      <td>https://github.com/apache/tomcat/</td>\n",
       "      <td>CVE-2018-8034</td>\n",
       "    </tr>\n",
       "  </tbody>\n",
       "</table>\n",
       "</div>"
      ],
      "text/plain": [
       "   cls                                 commit_id  commit_tag_delay  \\\n",
       "0  pos  57f2ccb66946943fbf3b3f2165eac1c8eb6b1523                 0   \n",
       "1  pos  8471904a02438c03965d21367890276bc25fa5a6            826575   \n",
       "2  pos   57d01e2fc8923263df896e9810329ee5b7f9b69            159744   \n",
       "3  pos  d7ea3f40efedd50541a57b943d5f7bbed046d091           2262293   \n",
       "4  pos  2835bb4e030c1c741ed0847bb3b9c3822e4fbc8a            149440   \n",
       "\n",
       "   commit_timestamp                                               diff  \\\n",
       "0        1496240700  diff --git a/spring-webflow/src/main/java/org/...   \n",
       "1        1520616563  diff --git a/docs/release-notes.html b/docs/re...   \n",
       "2        1481744113  diff --git a/components/camel-jackson/src/main...   \n",
       "3        1505309456  diff --git a/core/src/main/java/hudson/slaves/...   \n",
       "4        1529350518  diff --git a/java/org/apache/tomcat/websocket/...   \n",
       "\n",
       "          fix_tag  fix_tag_timestamp  in_nvd  \\\n",
       "0  v2.4.5.RELEASE         1496240700   False   \n",
       "1           4.0.5         1521443138   False   \n",
       "2    camel-2.16.5         1481903857   False   \n",
       "3    jenkins-2.84         1507571749   False   \n",
       "4    TOMCAT_9_0_9         1529499958   False   \n",
       "\n",
       "                                                 msg  \\\n",
       "0  Use fixed parser for empty value binding expre...   \n",
       "1                      Fix a SimpleBindRequest bug\\n   \n",
       "2  CAMEL-10567: Camel-Jackson: Add an option to a...   \n",
       "3  [SECURITY-478] Require RUN_SCRIPTS before conf...   \n",
       "4  Enable host name verification for secure WebSo...   \n",
       "\n",
       "                                            repo_url           vuln_id  \n",
       "0  https://github.com/spring-projects/spring-webflow     CVE-2017-4971  \n",
       "1            https://github.com/pingidentity/ldapsdk  CVE-2018-1000134  \n",
       "2                    https://github.com/apache/camel     CVE-2016-8749  \n",
       "3              https://github.com/jenkinsci/jenkins/  CVE-2017-1000393  \n",
       "4                  https://github.com/apache/tomcat/     CVE-2018-8034  "
      ]
     },
     "execution_count": 7,
     "metadata": {},
     "output_type": "execute_result"
    }
   ],
   "source": [
    "df_pos = pd.read_pickle(DATASET_NAME + '_pos.pd')\n",
    "if len(vulas_db_content) - len(df_pos.index) != 0:\n",
    "    print('There where ' + str(len(vulas_db_content)- len(df_pos.index))  + ' commits that could not be processed')\n",
    "print('Successfully processed ' + str(len(df_pos.index)) + ' (pos) commits.')\n",
    "df_pos.head()"
   ]
  },
  {
   "cell_type": "code",
   "execution_count": 8,
   "metadata": {},
   "outputs": [
    {
     "name": "stdout",
     "output_type": "stream",
     "text": [
      "[FIXBELOWHANDREDDAYS] Number of fix commits released in less than 100 days: 817\n",
      "[FIXBELOWONEDAYS] Number of fix commits released in less than 1 days: 181\n",
      "[FIXNOTRELEASED] Number of fix commits not released: 0\n"
     ]
    },
    {
     "data": {
      "text/plain": [
       "Text(0,0.5,'# Commits')"
      ]
     },
     "execution_count": 8,
     "metadata": {},
     "output_type": "execute_result"
    },
    {
     "data": {
      "image/png": "[encoded data removed]",
      "text/plain": [
       "<Figure size 432x288 with 1 Axes>"
      ]
     },
     "metadata": {},
     "output_type": "display_data"
    }
   ],
   "source": [
    "df_pos['days']=df_pos[df_pos['commit_tag_delay'] > 0]['commit_tag_delay']/(3600*24)\n",
    "\n",
    "df1=df_pos[df_pos['commit_tag_delay'] > 0]['commit_tag_delay']/(3600*24)\n",
    "\n",
    " \n",
    "\n",
    "df2=df1.to_frame()\n",
    "\n",
    " \n",
    "\n",
    "le.save('FIXBELOWHANDREDDAYS', len(df2[(df2['commit_tag_delay']).round()<100]), 'Number of fix commits released in less than 100 days')\n",
    "\n",
    "le.save('FIXBELOWONEDAYS', (len(df2[(df2['commit_tag_delay']).round() <1 ]) ), 'Number of fix commits released in less than 1 days')\n",
    "\n",
    "le.save('FIXNOTRELEASED', len(df_pos[df_pos['days']==np.nan]), 'Number of fix commits not released')\n",
    "\n",
    " \n",
    "\n",
    "d = {'Days': [1,2,3,4,5,6,7,8,9,10,11,12,13,14,15,50,100,500,1000,2000 ],\n",
    "     '# Commits': [len(df2[df2['commit_tag_delay'].round()<1]),\n",
    "\n",
    "                                                                   len(df2[df2['commit_tag_delay'].round()>=1])&len(df2[df2['commit_tag_delay'].round()<2]),\n",
    "\n",
    "                                                                   len(df2[df2['commit_tag_delay'].round()>=2])&len(df2[df2['commit_tag_delay'].round()<3]),\n",
    "\n",
    "                                                                   len(df2[df2['commit_tag_delay'].round()>=3])&len(df2[df2['commit_tag_delay'].round()<4]),\n",
    "\n",
    "                                                                   len(df2[df2['commit_tag_delay'].round()>=4])&len(df2[df2['commit_tag_delay'].round()<5]),\n",
    "\n",
    "                                                                   len(df2[df2['commit_tag_delay'].round()>=5])&len(df2[df2['commit_tag_delay'].round()<6]),\n",
    "\n",
    "                                                                   len(df2[df2['commit_tag_delay'].round()>=6])&len(df2[df2['commit_tag_delay'].round()<7]),\n",
    "\n",
    "                                                                   len(df2[df2['commit_tag_delay'].round()>=7])&len(df2[df2['commit_tag_delay'].round()<8]),\n",
    "\n",
    "                                                                   len(df2[df2['commit_tag_delay'].round()>=8])&len(df2[df2['commit_tag_delay'].round()<9]),\n",
    "\n",
    "                                                                   len(df2[df2['commit_tag_delay'].round()>=9])&len(df2[df2['commit_tag_delay'].round()<10]),\n",
    "\n",
    "                                                                   len(df2[df2['commit_tag_delay'].round()>=10])&len(df2[df2['commit_tag_delay'].round()<11]),\n",
    "\n",
    "                                                                   len(df2[df2['commit_tag_delay'].round()>=11])&len(df2[df2['commit_tag_delay'].round()<12]),\n",
    "\n",
    "                                                                   len(df2[df2['commit_tag_delay'].round()>=12])&len(df2[df2['commit_tag_delay'].round()<13]),\n",
    "\n",
    "                                                                   len(df2[df2['commit_tag_delay'].round()>=13])&len(df2[df2['commit_tag_delay'].round()<14]),\n",
    "\n",
    "                                                                   len(df2[df2['commit_tag_delay'].round()>=14])&len(df2[df2['commit_tag_delay'].round()<15]),\n",
    "\n",
    "                                                                 len(df2[df2['commit_tag_delay'].round()>=15])&len(df2[df2['commit_tag_delay'].round()<50]),\n",
    "\n",
    "                                                                 len(df2[df2['commit_tag_delay'].round()>=50])&len(df2[df2['commit_tag_delay'].round()<100]),\n",
    "\n",
    "                                                                 len(df2[df2['commit_tag_delay'].round()>=100])&len(df2[df2['commit_tag_delay'].round()<500]),\n",
    "\n",
    "                                                                 len(df2[df2['commit_tag_delay'].round()>=500])&len(df2[df2['commit_tag_delay'].round()<1000]),\n",
    "\n",
    "                                                                 len(df2[df2['commit_tag_delay'].round()>=1000])&len(df2[df2['commit_tag_delay'].round()<2000])\n",
    "\n",
    "                                                                  ]}\n",
    "\n",
    "df = pd.DataFrame(data=d)\n",
    "\n",
    "   \n",
    "\n",
    "with open('msr2019/tex/delays'+'.tex','w') as tf:\n",
    "\n",
    "        tf.write(df.to_latex(columns=['Days','# Commits'],index=False, column_format='lc'))\n",
    "\n",
    "   \n",
    "\n",
    " \n",
    "\n",
    "plt.savefig('msr2019/img/commitTagDelay'+'.pdf', dpi=200, bbox_inches='tight')\n",
    "matplotlib.pyplot.hist(df1.round(),bins=20,log=True,histtype='bar')\n",
    "matplotlib.pyplot.xlabel(\"Days\")\n",
    "matplotlib.pyplot.ylabel(\"# Commits\")"
   ]
  },
  {
   "cell_type": "markdown",
   "metadata": {},
   "source": [
    "## Create deduplicated version of (pos) dataset\n",
    "\n",
    "Deduplication is based on the equality of commit messages."
   ]
  },
  {
   "cell_type": "code",
   "execution_count": 15,
   "metadata": {},
   "outputs": [
    {
     "name": "stdout",
     "output_type": "stream",
     "text": [
      "There are 420 duplicate commits out of 1282\n",
      "[DUPLICATECOMMITSCOUNT] Number of duplicate commits: 420\n"
     ]
    }
   ],
   "source": [
    "# count duplicates\n",
    "\n",
    "dup_idx = df_pos.duplicated(subset='msg')\n",
    "dup_commit_count = dup_idx.value_counts()[1]\n",
    "print('There are {} duplicate commits out of {}'.format(dup_commit_count, len(df_pos.index)))\n",
    "\n",
    "le.save('DUPLICATECOMMITSCOUNT', dup_commit_count, 'Number of duplicate commits')"
   ]
  },
  {
   "cell_type": "code",
   "execution_count": 16,
   "metadata": {},
   "outputs": [
    {
     "data": {
      "text/html": [
       "<div>\n",
       "<style scoped>\n",
       "    .dataframe tbody tr th:only-of-type {\n",
       "        vertical-align: middle;\n",
       "    }\n",
       "\n",
       "    .dataframe tbody tr th {\n",
       "        vertical-align: top;\n",
       "    }\n",
       "\n",
       "    .dataframe thead th {\n",
       "        text-align: right;\n",
       "    }\n",
       "</style>\n",
       "<table border=\"1\" class=\"dataframe\">\n",
       "  <thead>\n",
       "    <tr style=\"text-align: right;\">\n",
       "      <th></th>\n",
       "      <th>cls</th>\n",
       "      <th>commit_id</th>\n",
       "      <th>commit_tag_delay</th>\n",
       "      <th>commit_timestamp</th>\n",
       "      <th>diff</th>\n",
       "      <th>fix_tag</th>\n",
       "      <th>fix_tag_timestamp</th>\n",
       "      <th>in_nvd</th>\n",
       "      <th>msg</th>\n",
       "      <th>repo_url</th>\n",
       "      <th>vuln_id</th>\n",
       "      <th>days</th>\n",
       "    </tr>\n",
       "  </thead>\n",
       "  <tbody>\n",
       "    <tr>\n",
       "      <th>763</th>\n",
       "      <td>pos</td>\n",
       "      <td>dc4c3317452f0bc2c5e1f6a08d3bd9f22488b450</td>\n",
       "      <td>126207</td>\n",
       "      <td>1472597786</td>\n",
       "      <td>diff --git a/java/org/apache/catalina/realm/Da...</td>\n",
       "      <td>TOMCAT_8_0_37</td>\n",
       "      <td>1472723993</td>\n",
       "      <td>False</td>\n",
       "      <td>Make timing attacks against the Realm impleme...</td>\n",
       "      <td>https://github.com/apache/tomcat80</td>\n",
       "      <td>CVE-2016-0762</td>\n",
       "      <td>1.460729</td>\n",
       "    </tr>\n",
       "    <tr>\n",
       "      <th>330</th>\n",
       "      <td>pos</td>\n",
       "      <td>d79c63d424fe6b225678416343b9ce106dec947c</td>\n",
       "      <td>75177</td>\n",
       "      <td>1472597763</td>\n",
       "      <td>diff --git a/java/org/apache/catalina/realm/Da...</td>\n",
       "      <td>TOMCAT_8_5_5</td>\n",
       "      <td>1472672940</td>\n",
       "      <td>False</td>\n",
       "      <td>Make timing attacks against the Realm impleme...</td>\n",
       "      <td>https://github.com/apache/tomcat85</td>\n",
       "      <td>CVE-2016-0762</td>\n",
       "      <td>0.870104</td>\n",
       "    </tr>\n",
       "    <tr>\n",
       "      <th>1263</th>\n",
       "      <td>pos</td>\n",
       "      <td>458e511ce2f2b47fd216f68c0e385fc06a5f1d2f</td>\n",
       "      <td>4188007</td>\n",
       "      <td>1380253020</td>\n",
       "      <td>diff --git a/jetty-util/src/main/java/org/ecli...</td>\n",
       "      <td>jetty-9.0.x</td>\n",
       "      <td>1384441027</td>\n",
       "      <td>False</td>\n",
       "      <td>418014 Handle NTFS canonical exceptions during...</td>\n",
       "      <td>https://github.com/eclipse/jetty.project</td>\n",
       "      <td>PT-2013-65</td>\n",
       "      <td>48.472303</td>\n",
       "    </tr>\n",
       "    <tr>\n",
       "      <th>515</th>\n",
       "      <td>pos</td>\n",
       "      <td>4df5647f6dfdc5fa7abb812afe9290d60b17c098</td>\n",
       "      <td>50530587</td>\n",
       "      <td>1424727893</td>\n",
       "      <td>diff --git a/jetty-http/src/main/java/org/ecli...</td>\n",
       "      <td>jetty-9.3.13.M0</td>\n",
       "      <td>1475258480</td>\n",
       "      <td>False</td>\n",
       "      <td>460642 - HttpParser error 400 can expose previ...</td>\n",
       "      <td>https://github.com/eclipse/jetty.project</td>\n",
       "      <td>CVE-2015-2080</td>\n",
       "      <td>584.844757</td>\n",
       "    </tr>\n",
       "    <tr>\n",
       "      <th>1264</th>\n",
       "      <td>pos</td>\n",
       "      <td>d2e49be3a8f21d862726c1f6bc9e1caa6ee8b58</td>\n",
       "      <td>4665600</td>\n",
       "      <td>1512567732</td>\n",
       "      <td>diff --git a/activemq-client/src/main/java/org...</td>\n",
       "      <td>activemq-5.15.3</td>\n",
       "      <td>1517233332</td>\n",
       "      <td>False</td>\n",
       "      <td>AMQ-6871 - By default only send generic platfo...</td>\n",
       "      <td>https://github.com/apache/activemq</td>\n",
       "      <td>CVE-2017-15709</td>\n",
       "      <td>54.000000</td>\n",
       "    </tr>\n",
       "    <tr>\n",
       "      <th>537</th>\n",
       "      <td>pos</td>\n",
       "      <td>8ff18c5e254bf43395f2e0d7e3a1092b33ec646</td>\n",
       "      <td>-1512567766</td>\n",
       "      <td>1512567766</td>\n",
       "      <td>diff --git a/activemq-client/src/main/java/org...</td>\n",
       "      <td></td>\n",
       "      <td>0</td>\n",
       "      <td>False</td>\n",
       "      <td>AMQ-6871 - By default only send generic platfo...</td>\n",
       "      <td>https://github.com/apache/activemq</td>\n",
       "      <td>CVE-2017-15709</td>\n",
       "      <td>NaN</td>\n",
       "    </tr>\n",
       "    <tr>\n",
       "      <th>824</th>\n",
       "      <td>pos</td>\n",
       "      <td>4150f107e60cac4a7735fcf7cb4c1889a0cbab6</td>\n",
       "      <td>774010</td>\n",
       "      <td>1458075612</td>\n",
       "      <td>diff --git a/spring-amqp/src/main/java/org/spr...</td>\n",
       "      <td>v1.5.5.RELEASE</td>\n",
       "      <td>1458849622</td>\n",
       "      <td>False</td>\n",
       "      <td>AMQP-590: Java Deserialization White List\\n</td>\n",
       "      <td>https://github.com/spring-projects/spring-amqp</td>\n",
       "      <td>AMQP-590</td>\n",
       "      <td>8.958449</td>\n",
       "    </tr>\n",
       "    <tr>\n",
       "      <th>832</th>\n",
       "      <td>pos</td>\n",
       "      <td>462dcb6f1f93d54923daffb9729c1c8519576c08</td>\n",
       "      <td>773273</td>\n",
       "      <td>1458075370</td>\n",
       "      <td>diff --git a/spring-amqp/src/main/java/org/spr...</td>\n",
       "      <td>v1.6.0.M2</td>\n",
       "      <td>1458848643</td>\n",
       "      <td>False</td>\n",
       "      <td>AMQP-590: Java Deserialization White List\\n</td>\n",
       "      <td>https://github.com/spring-projects/spring-amqp</td>\n",
       "      <td>AMQP-590</td>\n",
       "      <td>8.949919</td>\n",
       "    </tr>\n",
       "    <tr>\n",
       "      <th>1145</th>\n",
       "      <td>pos</td>\n",
       "      <td>83fe9fdec2c86a57898d56c5e109debd9d5c07d</td>\n",
       "      <td>168717</td>\n",
       "      <td>1504711070</td>\n",
       "      <td>diff --git a/spring-amqp/src/main/java/org/spr...</td>\n",
       "      <td>v1.5.7.RELEASE</td>\n",
       "      <td>1504879787</td>\n",
       "      <td>False</td>\n",
       "      <td>AMQP-766: Deserialization in Message.toString()\\n</td>\n",
       "      <td>https://github.com/spring-projects/spring-amqp</td>\n",
       "      <td>CVE-2017-8045</td>\n",
       "      <td>1.952743</td>\n",
       "    </tr>\n",
       "    <tr>\n",
       "      <th>1102</th>\n",
       "      <td>pos</td>\n",
       "      <td>6e9e00bb5bf0aa88444146db3c2eae138cc7b0a</td>\n",
       "      <td>168550</td>\n",
       "      <td>1504710986</td>\n",
       "      <td>diff --git a/spring-amqp/src/main/java/org/spr...</td>\n",
       "      <td>v1.6.11.RELEASE</td>\n",
       "      <td>1504879536</td>\n",
       "      <td>False</td>\n",
       "      <td>AMQP-766: Deserialization in Message.toString()\\n</td>\n",
       "      <td>https://github.com/spring-projects/spring-amqp</td>\n",
       "      <td>CVE-2017-8045</td>\n",
       "      <td>1.950810</td>\n",
       "    </tr>\n",
       "    <tr>\n",
       "      <th>968</th>\n",
       "      <td>pos</td>\n",
       "      <td>36e55998f6352ba3498be950ccab1d5f4d0ce655</td>\n",
       "      <td>433172</td>\n",
       "      <td>1504710849</td>\n",
       "      <td>diff --git a/spring-amqp/src/main/java/org/spr...</td>\n",
       "      <td>v2.0.0.RC1</td>\n",
       "      <td>1505144021</td>\n",
       "      <td>False</td>\n",
       "      <td>AMQP-766: Deserialization in Message.toString()\\n</td>\n",
       "      <td>https://github.com/spring-projects/spring-amqp</td>\n",
       "      <td>CVE-2017-8045</td>\n",
       "      <td>5.013565</td>\n",
       "    </tr>\n",
       "    <tr>\n",
       "      <th>139</th>\n",
       "      <td>pos</td>\n",
       "      <td>444b74e95bb299af5e23ebf006fbb45d574fb95</td>\n",
       "      <td>1184330</td>\n",
       "      <td>1535487578</td>\n",
       "      <td>diff --git a/build.gradle b/build.gradle\\ninde...</td>\n",
       "      <td>v2.1.0.M3</td>\n",
       "      <td>1536671908</td>\n",
       "      <td>False</td>\n",
       "      <td>AMQP-830 Enable Hostname Verification by defau...</td>\n",
       "      <td>https://github.com/spring-projects/spring-amqp/</td>\n",
       "      <td>CVE-2018-11087</td>\n",
       "      <td>13.707523</td>\n",
       "    </tr>\n",
       "    <tr>\n",
       "      <th>1109</th>\n",
       "      <td>pos</td>\n",
       "      <td>0eef5b4b425ab42b9fa0fde1a3f36a37b92558f</td>\n",
       "      <td>11046</td>\n",
       "      <td>1516813568</td>\n",
       "      <td>diff --git a/config/src/main/java/org/springfr...</td>\n",
       "      <td>5.0.1.RELEASE</td>\n",
       "      <td>1516824614</td>\n",
       "      <td>False</td>\n",
       "      <td>Add StrictHttpFirewall\\n</td>\n",
       "      <td>https://github.com/spring-projects/spring-secu...</td>\n",
       "      <td>CVE-2018-1199</td>\n",
       "      <td>0.127847</td>\n",
       "    </tr>\n",
       "    <tr>\n",
       "      <th>809</th>\n",
       "      <td>pos</td>\n",
       "      <td>cb8041ba67635edafcc934498ef82707157fd22</td>\n",
       "      <td>2880</td>\n",
       "      <td>1516833100</td>\n",
       "      <td>diff --git a/config/src/main/java/org/springfr...</td>\n",
       "      <td>4.2.4.RELEASE</td>\n",
       "      <td>1516835980</td>\n",
       "      <td>False</td>\n",
       "      <td>Add StrictHttpFirewall\\n</td>\n",
       "      <td>https://github.com/spring-projects/spring-secu...</td>\n",
       "      <td>CVE-2018-1199</td>\n",
       "      <td>0.033333</td>\n",
       "    </tr>\n",
       "    <tr>\n",
       "      <th>1046</th>\n",
       "      <td>pos</td>\n",
       "      <td>880250877b0643956435282afb9c111450cfff4c</td>\n",
       "      <td>1616591</td>\n",
       "      <td>1471625873</td>\n",
       "      <td>diff --git a/conf/web.xml b/conf/web.xml\\ninde...</td>\n",
       "      <td>TOMCAT_7_0_71</td>\n",
       "      <td>1473242464</td>\n",
       "      <td>False</td>\n",
       "      <td>Add a new initialisation parameter, envHttpHea...</td>\n",
       "      <td>https://github.com/apache/tomcat70</td>\n",
       "      <td>CVE-2016-5388</td>\n",
       "      <td>18.710544</td>\n",
       "    </tr>\n",
       "    <tr>\n",
       "      <th>1077</th>\n",
       "      <td>pos</td>\n",
       "      <td>1b91e91194a095ea922f96d1dccddf6fbc446e54</td>\n",
       "      <td>1047147</td>\n",
       "      <td>1471625793</td>\n",
       "      <td>diff --git a/conf/web.xml b/conf/web.xml\\ninde...</td>\n",
       "      <td>TOMCAT_8_5_5</td>\n",
       "      <td>1472672940</td>\n",
       "      <td>False</td>\n",
       "      <td>Add a new initialisation parameter, envHttpHea...</td>\n",
       "      <td>https://github.com/apache/tomcat85</td>\n",
       "      <td>CVE-2016-5388</td>\n",
       "      <td>12.119757</td>\n",
       "    </tr>\n",
       "    <tr>\n",
       "      <th>932</th>\n",
       "      <td>pos</td>\n",
       "      <td>1977bf9df699c571cf3e08c2996533b959d4cb1e</td>\n",
       "      <td>1098157</td>\n",
       "      <td>1471625836</td>\n",
       "      <td>diff --git a/conf/web.xml b/conf/web.xml\\ninde...</td>\n",
       "      <td>TOMCAT_8_0_37</td>\n",
       "      <td>1472723993</td>\n",
       "      <td>False</td>\n",
       "      <td>Add a new initialisation parameter, envHttpHea...</td>\n",
       "      <td>https://github.com/apache/tomcat80</td>\n",
       "      <td>CVE-2016-5388</td>\n",
       "      <td>12.710150</td>\n",
       "    </tr>\n",
       "    <tr>\n",
       "      <th>1202</th>\n",
       "      <td>pos</td>\n",
       "      <td>b1c8477e3e3ee635d19cc4d5987c2b157431e0c1</td>\n",
       "      <td>2515768</td>\n",
       "      <td>1403170303</td>\n",
       "      <td>diff --git a/java/org/apache/coyote/http11/Abs...</td>\n",
       "      <td>TOMCAT_7_0_55</td>\n",
       "      <td>1405686071</td>\n",
       "      <td>False</td>\n",
       "      <td>Add a new limit, defaulting to 2MB, for the am...</td>\n",
       "      <td>https://github.com/apache/tomcat70</td>\n",
       "      <td>CVE-2014-0230</td>\n",
       "      <td>29.117685</td>\n",
       "    </tr>\n",
       "    <tr>\n",
       "      <th>894</th>\n",
       "      <td>pos</td>\n",
       "      <td>7b8fa90d96aaf751a3256fa755d5f17e081c20f</td>\n",
       "      <td>17694298</td>\n",
       "      <td>1525728212</td>\n",
       "      <td>diff --git a/config/src/main/java/org/springfr...</td>\n",
       "      <td>5.0.10.RELEASE</td>\n",
       "      <td>1543422510</td>\n",
       "      <td>False</td>\n",
       "      <td>Add accessDeniedHandler method to ExceptionHan...</td>\n",
       "      <td>https://github.com/spring-projects/spring-secu...</td>\n",
       "      <td>CVE-2018-1258</td>\n",
       "      <td>204.795116</td>\n",
       "    </tr>\n",
       "    <tr>\n",
       "      <th>1218</th>\n",
       "      <td>pos</td>\n",
       "      <td>779d5d34e68e50d2f721897050b147106992f566</td>\n",
       "      <td>502845</td>\n",
       "      <td>1478089088</td>\n",
       "      <td>diff --git a/java/org/apache/coyote/http11/Abs...</td>\n",
       "      <td>TOMCAT_8_0_39</td>\n",
       "      <td>1478591933</td>\n",
       "      <td>False</td>\n",
       "      <td>Add additional checks for valid characters to ...</td>\n",
       "      <td>https://github.com/apache/tomcat80</td>\n",
       "      <td>CVE-2016-6816</td>\n",
       "      <td>5.819965</td>\n",
       "    </tr>\n",
       "    <tr>\n",
       "      <th>943</th>\n",
       "      <td>pos</td>\n",
       "      <td>516bda676ac8d0284da3e0295a7df70391315360</td>\n",
       "      <td>1433</td>\n",
       "      <td>1478087834</td>\n",
       "      <td>diff --git a/java/org/apache/coyote/http11/Htt...</td>\n",
       "      <td>TOMCAT_9_0_0_M12</td>\n",
       "      <td>1478089267</td>\n",
       "      <td>False</td>\n",
       "      <td>Add additional checks for valid characters to ...</td>\n",
       "      <td>https://github.com/apache/tomcat</td>\n",
       "      <td>CVE-2016-6816</td>\n",
       "      <td>0.016586</td>\n",
       "    </tr>\n",
       "    <tr>\n",
       "      <th>1188</th>\n",
       "      <td>pos</td>\n",
       "      <td>cdc0a935c2173aff60039a0b85e57a461381107c</td>\n",
       "      <td>460141</td>\n",
       "      <td>1478093434</td>\n",
       "      <td>diff --git a/java/org/apache/coyote/http11/Abs...</td>\n",
       "      <td>TOMCAT_7_0_73</td>\n",
       "      <td>1478553575</td>\n",
       "      <td>False</td>\n",
       "      <td>Add additional checks for valid characters to ...</td>\n",
       "      <td>https://github.com/apache/tomcat70</td>\n",
       "      <td>CVE-2016-6816</td>\n",
       "      <td>5.325706</td>\n",
       "    </tr>\n",
       "    <tr>\n",
       "      <th>1011</th>\n",
       "      <td>pos</td>\n",
       "      <td>644dfdf96cf82fcd2a2046d93f2b5495f7e94584</td>\n",
       "      <td>2685518</td>\n",
       "      <td>1313686179</td>\n",
       "      <td>diff --git a/STATUS.txt b/STATUS.txt\\nindex ea...</td>\n",
       "      <td>TOMCAT_5_5_34</td>\n",
       "      <td>1316371697</td>\n",
       "      <td>False</td>\n",
       "      <td>Add additional configuration options to the DI...</td>\n",
       "      <td>https://github.com/apache/tomcat55</td>\n",
       "      <td>CVE-2011-1184</td>\n",
       "      <td>31.082384</td>\n",
       "    </tr>\n",
       "    <tr>\n",
       "      <th>1116</th>\n",
       "      <td>pos</td>\n",
       "      <td>644dfdf96cf82fcd2a2046d93f2b5495f7e94584</td>\n",
       "      <td>2685518</td>\n",
       "      <td>1313686179</td>\n",
       "      <td>diff --git a/STATUS.txt b/STATUS.txt\\nindex ea...</td>\n",
       "      <td>TOMCAT_5_5_34</td>\n",
       "      <td>1316371697</td>\n",
       "      <td>False</td>\n",
       "      <td>Add additional configuration options to the DI...</td>\n",
       "      <td>https://github.com/apache/tomcat55</td>\n",
       "      <td>CVE-2011-5063</td>\n",
       "      <td>31.082384</td>\n",
       "    </tr>\n",
       "    <tr>\n",
       "      <th>437</th>\n",
       "      <td>pos</td>\n",
       "      <td>639e20992a66d7a42fb59c974db91c8a0f730a1e</td>\n",
       "      <td>71093805</td>\n",
       "      <td>1301657814</td>\n",
       "      <td>diff --git a/java/org/apache/catalina/authenti...</td>\n",
       "      <td>TOMCAT_7_0_42</td>\n",
       "      <td>1372751619</td>\n",
       "      <td>False</td>\n",
       "      <td>Add additional configuration options to the DI...</td>\n",
       "      <td>https://github.com/apache/tomcat</td>\n",
       "      <td>CVE-2011-5062</td>\n",
       "      <td>822.844965</td>\n",
       "    </tr>\n",
       "    <tr>\n",
       "      <th>320</th>\n",
       "      <td>pos</td>\n",
       "      <td>639e20992a66d7a42fb59c974db91c8a0f730a1e</td>\n",
       "      <td>71093805</td>\n",
       "      <td>1301657814</td>\n",
       "      <td>diff --git a/java/org/apache/catalina/authenti...</td>\n",
       "      <td>TOMCAT_7_0_42</td>\n",
       "      <td>1372751619</td>\n",
       "      <td>False</td>\n",
       "      <td>Add additional configuration options to the DI...</td>\n",
       "      <td>https://github.com/apache/tomcat</td>\n",
       "      <td>CVE-2011-5063</td>\n",
       "      <td>822.844965</td>\n",
       "    </tr>\n",
       "    <tr>\n",
       "      <th>886</th>\n",
       "      <td>pos</td>\n",
       "      <td>e76505ba9bb59d9a8b5ae7c103867b00005ac676</td>\n",
       "      <td>147684</td>\n",
       "      <td>1506544075</td>\n",
       "      <td>diff --git a/java/org/apache/catalina/webresou...</td>\n",
       "      <td>TOMCAT_8_0_47</td>\n",
       "      <td>1506691759</td>\n",
       "      <td>False</td>\n",
       "      <td>Add some additional checks required on Windows...</td>\n",
       "      <td>https://github.com/apache/tomcat80</td>\n",
       "      <td>CVE-2017-12617</td>\n",
       "      <td>1.709306</td>\n",
       "    </tr>\n",
       "    <tr>\n",
       "      <th>297</th>\n",
       "      <td>pos</td>\n",
       "      <td>a9dd96046d7acb0357c6b7b9e6cc70d186fae663</td>\n",
       "      <td>139716</td>\n",
       "      <td>1506381656</td>\n",
       "      <td>diff --git a/java/org/apache/catalina/webresou...</td>\n",
       "      <td>TOMCAT_9_0_1</td>\n",
       "      <td>1506521372</td>\n",
       "      <td>False</td>\n",
       "      <td>Add some additional checks required on Windows...</td>\n",
       "      <td>https://github.com/apache/tomcat</td>\n",
       "      <td>CVE-2017-12617</td>\n",
       "      <td>1.617083</td>\n",
       "    </tr>\n",
       "    <tr>\n",
       "      <th>1085</th>\n",
       "      <td>pos</td>\n",
       "      <td>bed3a1a0d06a3c787183c6e90f326bbe17e49dd4</td>\n",
       "      <td>703078</td>\n",
       "      <td>1378909190</td>\n",
       "      <td>diff --git a/java/org/apache/coyote/http11/Abs...</td>\n",
       "      <td>TOMCAT_7_0_43</td>\n",
       "      <td>1379612268</td>\n",
       "      <td>False</td>\n",
       "      <td>Add support for limiting the size of chunk ext...</td>\n",
       "      <td>https://github.com/apache/tomcat70</td>\n",
       "      <td>CVE-2013-4322</td>\n",
       "      <td>8.137477</td>\n",
       "    </tr>\n",
       "    <tr>\n",
       "      <th>1113</th>\n",
       "      <td>pos</td>\n",
       "      <td>32569285018a464dcbd9d4c120a11cc4b767f8e</td>\n",
       "      <td>21494</td>\n",
       "      <td>1472586304</td>\n",
       "      <td>diff --git a/server/src/main/java/org/cloudfou...</td>\n",
       "      <td>3.3.0.5</td>\n",
       "      <td>1472607798</td>\n",
       "      <td>False</td>\n",
       "      <td>Add test for csrf token for approvals pages Im...</td>\n",
       "      <td>https://github.com/cloudfoundry/uaa</td>\n",
       "      <td>CVE-2016-6637</td>\n",
       "      <td>0.248773</td>\n",
       "    </tr>\n",
       "    <tr>\n",
       "      <th>...</th>\n",
       "      <td>...</td>\n",
       "      <td>...</td>\n",
       "      <td>...</td>\n",
       "      <td>...</td>\n",
       "      <td>...</td>\n",
       "      <td>...</td>\n",
       "      <td>...</td>\n",
       "      <td>...</td>\n",
       "      <td>...</td>\n",
       "      <td>...</td>\n",
       "      <td>...</td>\n",
       "      <td>...</td>\n",
       "    </tr>\n",
       "    <tr>\n",
       "      <th>707</th>\n",
       "      <td>pos</td>\n",
       "      <td>a222f2d9d1bca3422e6a462a7f587ae325455b80</td>\n",
       "      <td>3180</td>\n",
       "      <td>1519209107</td>\n",
       "      <td>diff --git a/src/main/java/com/sonyericsson/hu...</td>\n",
       "      <td>gerrit-trigger-2.27.5</td>\n",
       "      <td>1519212287</td>\n",
       "      <td>False</td>\n",
       "      <td>[SECURITY-402,SECURITY-403] Squashed commit of...</td>\n",
       "      <td>https://github.com/jenkinsci/gerrit-trigger-pl...</td>\n",
       "      <td>CVE-2018-1000105</td>\n",
       "      <td>0.036806</td>\n",
       "    </tr>\n",
       "    <tr>\n",
       "      <th>654</th>\n",
       "      <td>pos</td>\n",
       "      <td>ccc374a7176d7704941fb494589790b7673efe2</td>\n",
       "      <td>24172</td>\n",
       "      <td>1513187944</td>\n",
       "      <td>diff --git a/core/src/main/java/jenkins/model/...</td>\n",
       "      <td>jenkins-2.89.2</td>\n",
       "      <td>1513212116</td>\n",
       "      <td>False</td>\n",
       "      <td>[SECURITY-667] Ensure all tasks have completed...</td>\n",
       "      <td>https://github.com/jenkinsci/jenkins/</td>\n",
       "      <td>CVE-2017-1000503</td>\n",
       "      <td>0.279769</td>\n",
       "    </tr>\n",
       "    <tr>\n",
       "      <th>895</th>\n",
       "      <td>pos</td>\n",
       "      <td>4cba3b5a350f4d477466fc73b32cbd653eee840</td>\n",
       "      <td>2509792</td>\n",
       "      <td>1496353482</td>\n",
       "      <td>diff --git a/launcher/src/main/java/org/apache...</td>\n",
       "      <td>v2.2.0</td>\n",
       "      <td>1498863274</td>\n",
       "      <td>False</td>\n",
       "      <td>[SPARK-20922][CORE] Add whitelist of classes t...</td>\n",
       "      <td>https://github.com/apache/spark/</td>\n",
       "      <td>CVE-2017-12612</td>\n",
       "      <td>29.048519</td>\n",
       "    </tr>\n",
       "    <tr>\n",
       "      <th>744</th>\n",
       "      <td>pos</td>\n",
       "      <td>f7cbf90a72a19476ea2d3d1ddc96c45a24b9f57</td>\n",
       "      <td>-1496353509</td>\n",
       "      <td>1496353509</td>\n",
       "      <td>diff --git a/launcher/src/main/java/org/apache...</td>\n",
       "      <td></td>\n",
       "      <td>0</td>\n",
       "      <td>False</td>\n",
       "      <td>[SPARK-20922][CORE] Add whitelist of classes t...</td>\n",
       "      <td>https://github.com/apache/spark/</td>\n",
       "      <td>CVE-2017-12612</td>\n",
       "      <td>NaN</td>\n",
       "    </tr>\n",
       "    <tr>\n",
       "      <th>977</th>\n",
       "      <td>pos</td>\n",
       "      <td>8efc6e986554ae66eab93cd64a9035d716adbab</td>\n",
       "      <td>22968743</td>\n",
       "      <td>1496353474</td>\n",
       "      <td>diff --git a/launcher/src/main/java/org/apache...</td>\n",
       "      <td>v2.3.0</td>\n",
       "      <td>1519322217</td>\n",
       "      <td>False</td>\n",
       "      <td>[SPARK-20922][CORE] Add whitelist of classes t...</td>\n",
       "      <td>https://github.com/apache/spark/</td>\n",
       "      <td>CVE-2017-12612</td>\n",
       "      <td>265.841933</td>\n",
       "    </tr>\n",
       "    <tr>\n",
       "      <th>1201</th>\n",
       "      <td>pos</td>\n",
       "      <td>9952b53b57498852cba799b47f00238e52114c7c</td>\n",
       "      <td>-1496360741</td>\n",
       "      <td>1496360741</td>\n",
       "      <td>diff --git a/launcher/src/main/java/org/apache...</td>\n",
       "      <td></td>\n",
       "      <td>0</td>\n",
       "      <td>False</td>\n",
       "      <td>[SPARK-20922][CORE][HOTFIX] Don't use Java 8 l...</td>\n",
       "      <td>https://github.com/apache/spark/</td>\n",
       "      <td>CVE-2017-12612</td>\n",
       "      <td>NaN</td>\n",
       "    </tr>\n",
       "    <tr>\n",
       "      <th>1097</th>\n",
       "      <td>pos</td>\n",
       "      <td>69735b0f4ab9ad7df4b82e8c917589b52cb9978c</td>\n",
       "      <td>8161</td>\n",
       "      <td>1423657697</td>\n",
       "      <td>diff --git a/src/main/java/org/elasticsearch/s...</td>\n",
       "      <td>v1.3.8</td>\n",
       "      <td>1423665858</td>\n",
       "      <td>False</td>\n",
       "      <td>[TEST] make sandbox settings explicit in Tests\\n</td>\n",
       "      <td>https://github.com/elastic/elasticsearch</td>\n",
       "      <td>CVE-2015-1427</td>\n",
       "      <td>0.094456</td>\n",
       "    </tr>\n",
       "    <tr>\n",
       "      <th>586</th>\n",
       "      <td>pos</td>\n",
       "      <td>764fda6420a0aa10db4abef15429b5e77b9be8bf</td>\n",
       "      <td>21803815</td>\n",
       "      <td>1423657303</td>\n",
       "      <td>diff --git a/src/main/java/org/elasticsearch/s...</td>\n",
       "      <td>v2.0.0</td>\n",
       "      <td>1445461118</td>\n",
       "      <td>False</td>\n",
       "      <td>[TEST] make sandbox settings explicit in Tests\\n</td>\n",
       "      <td>https://github.com/elastic/elasticsearch</td>\n",
       "      <td>CVE-2015-1427</td>\n",
       "      <td>252.358970</td>\n",
       "    </tr>\n",
       "    <tr>\n",
       "      <th>1016</th>\n",
       "      <td>pos</td>\n",
       "      <td>9f91c619a35db89544f5c85795df4128c9f0d96</td>\n",
       "      <td>-1499342668</td>\n",
       "      <td>1499342668</td>\n",
       "      <td>diff --git a/solr/core/src/java/org/apache/sol...</td>\n",
       "      <td></td>\n",
       "      <td>0</td>\n",
       "      <td>False</td>\n",
       "      <td>added extra check if it is a liveNode\\n</td>\n",
       "      <td>https://github.com/apache/lucene-solr</td>\n",
       "      <td>CVE-2017-7660</td>\n",
       "      <td>NaN</td>\n",
       "    </tr>\n",
       "    <tr>\n",
       "      <th>1228</th>\n",
       "      <td>pos</td>\n",
       "      <td>2f5ecbcf9ed7a3a4fd37b5c55860ad8eace1bea</td>\n",
       "      <td>9160361</td>\n",
       "      <td>1499342719</td>\n",
       "      <td>diff --git a/solr/core/src/java/org/apache/sol...</td>\n",
       "      <td>releases/lucene-solr/5.5.5</td>\n",
       "      <td>1508503080</td>\n",
       "      <td>False</td>\n",
       "      <td>added extra check if it is a liveNode\\n</td>\n",
       "      <td>https://github.com/apache/lucene-solr</td>\n",
       "      <td>CVE-2017-7660</td>\n",
       "      <td>106.022697</td>\n",
       "    </tr>\n",
       "    <tr>\n",
       "      <th>841</th>\n",
       "      <td>pos</td>\n",
       "      <td>e912b7cb5c68fbb87b874d41068cf5a3aea17da0</td>\n",
       "      <td>11008571</td>\n",
       "      <td>1493876581</td>\n",
       "      <td>diff --git a/solr/core/src/java/org/apache/sol...</td>\n",
       "      <td>releases/lucene-solr/7.0.0</td>\n",
       "      <td>1504885152</td>\n",
       "      <td>False</td>\n",
       "      <td>added extra check if it is a liveNode\\n</td>\n",
       "      <td>https://github.com/apache/lucene-solr</td>\n",
       "      <td>CVE-2017-7660</td>\n",
       "      <td>127.414016</td>\n",
       "    </tr>\n",
       "    <tr>\n",
       "      <th>1277</th>\n",
       "      <td>pos</td>\n",
       "      <td>74b9b270787aa602196d59d58893c3a6e09816f9</td>\n",
       "      <td>36215674</td>\n",
       "      <td>1492716266</td>\n",
       "      <td>diff --git a/server/src/main/java/org/cloudfou...</td>\n",
       "      <td>4.10.1</td>\n",
       "      <td>1528931940</td>\n",
       "      <td>False</td>\n",
       "      <td>better parsing of attributes\\n</td>\n",
       "      <td>https://github.com/cloudfoundry/uaa</td>\n",
       "      <td>CVE-2017-4974</td>\n",
       "      <td>419.162894</td>\n",
       "    </tr>\n",
       "    <tr>\n",
       "      <th>1148</th>\n",
       "      <td>pos</td>\n",
       "      <td>01edea6337c8ddb2ab80906aa1254d3c1dc02fb</td>\n",
       "      <td>14213</td>\n",
       "      <td>1492726300</td>\n",
       "      <td>diff --git a/common/src/main/java/org/cloudfou...</td>\n",
       "      <td>2.7.4.15</td>\n",
       "      <td>1492740513</td>\n",
       "      <td>False</td>\n",
       "      <td>better parsing of attributes\\n</td>\n",
       "      <td>https://github.com/cloudfoundry/uaa</td>\n",
       "      <td>CVE-2017-4974</td>\n",
       "      <td>0.164502</td>\n",
       "    </tr>\n",
       "    <tr>\n",
       "      <th>970</th>\n",
       "      <td>pos</td>\n",
       "      <td>b6d6526cb89120043d390bf0274cd062e9fc452</td>\n",
       "      <td>23409</td>\n",
       "      <td>1492716666</td>\n",
       "      <td>diff --git a/server/src/main/java/org/cloudfou...</td>\n",
       "      <td>3.9.11</td>\n",
       "      <td>1492740075</td>\n",
       "      <td>False</td>\n",
       "      <td>better parsing of attributes\\n</td>\n",
       "      <td>https://github.com/cloudfoundry/uaa</td>\n",
       "      <td>CVE-2017-4974</td>\n",
       "      <td>0.270937</td>\n",
       "    </tr>\n",
       "    <tr>\n",
       "      <th>1008</th>\n",
       "      <td>pos</td>\n",
       "      <td>d0e33ace71b7603450fc1aa7725f53dbc545831</td>\n",
       "      <td>8913716</td>\n",
       "      <td>1511953907</td>\n",
       "      <td>diff --git a/backend/manager/modules/vdsbroker...</td>\n",
       "      <td>4.1.10.3</td>\n",
       "      <td>1520867623</td>\n",
       "      <td>False</td>\n",
       "      <td>core: deprecate discard_zeroes_data\\n</td>\n",
       "      <td>https://gerrit.ovirt.org/ovirt-engine</td>\n",
       "      <td>CVE-2018-1062</td>\n",
       "      <td>103.168009</td>\n",
       "    </tr>\n",
       "    <tr>\n",
       "      <th>587</th>\n",
       "      <td>pos</td>\n",
       "      <td>62926cae31a02d4f23d21148435804b96c543cc</td>\n",
       "      <td>9697928</td>\n",
       "      <td>1527259483</td>\n",
       "      <td>diff --git a/tika-parsers/src/main/java/org/ap...</td>\n",
       "      <td>1.19</td>\n",
       "      <td>1536957411</td>\n",
       "      <td>False</td>\n",
       "      <td>fix logic in iptc parser\\n</td>\n",
       "      <td>https://github.com/apache/tika/</td>\n",
       "      <td>CVE-2018-8017</td>\n",
       "      <td>112.244537</td>\n",
       "    </tr>\n",
       "    <tr>\n",
       "      <th>1176</th>\n",
       "      <td>pos</td>\n",
       "      <td>b2d3932b847a171a85e356aa230af461a0f80d91</td>\n",
       "      <td>18992</td>\n",
       "      <td>1523907406</td>\n",
       "      <td>diff --git a/tika-server/src/main/java/org/apa...</td>\n",
       "      <td>1.18-rc2</td>\n",
       "      <td>1523926398</td>\n",
       "      <td>False</td>\n",
       "      <td>fix potential resource leak\\n</td>\n",
       "      <td>https://github.com/apache/tika/</td>\n",
       "      <td>CVE-2018-1335</td>\n",
       "      <td>0.219815</td>\n",
       "    </tr>\n",
       "    <tr>\n",
       "      <th>1110</th>\n",
       "      <td>pos</td>\n",
       "      <td>0b5231ada5ce365b41832ba8752ee210145d1cbe</td>\n",
       "      <td>12444883</td>\n",
       "      <td>1410177085</td>\n",
       "      <td>diff --git a/activemq-broker/src/main/java/org...</td>\n",
       "      <td>activemq-5.11.0</td>\n",
       "      <td>1422621968</td>\n",
       "      <td>False</td>\n",
       "      <td>https://issues.apache.org/jira/browse/AMQ-5345...</td>\n",
       "      <td>https://github.com/apache/activemq</td>\n",
       "      <td>CVE-2014-3612</td>\n",
       "      <td>144.037998</td>\n",
       "    </tr>\n",
       "    <tr>\n",
       "      <th>491</th>\n",
       "      <td>pos</td>\n",
       "      <td>7eb9b218b2705cf9273e30ee2da026e43b6dd4e</td>\n",
       "      <td>2841681</td>\n",
       "      <td>1449166965</td>\n",
       "      <td>diff --git a/activemq-client/src/main/java/org...</td>\n",
       "      <td>activemq-5.12.2</td>\n",
       "      <td>1452008646</td>\n",
       "      <td>False</td>\n",
       "      <td>https://issues.apache.org/jira/browse/AMQ-6013...</td>\n",
       "      <td>https://github.com/apache/activemq</td>\n",
       "      <td>CVE-2015-5254</td>\n",
       "      <td>32.889826</td>\n",
       "    </tr>\n",
       "    <tr>\n",
       "      <th>356</th>\n",
       "      <td>pos</td>\n",
       "      <td>e100638244c4ca5eb2a1f16bcdc671c9859c2694</td>\n",
       "      <td>3554234</td>\n",
       "      <td>1445337057</td>\n",
       "      <td>diff --git a/activemq-client/src/main/java/org...</td>\n",
       "      <td>activemq-5.13.0</td>\n",
       "      <td>1448891291</td>\n",
       "      <td>False</td>\n",
       "      <td>https://issues.apache.org/jira/browse/AMQ-6013...</td>\n",
       "      <td>https://github.com/apache/activemq</td>\n",
       "      <td>CVE-2015-5254</td>\n",
       "      <td>41.136968</td>\n",
       "    </tr>\n",
       "    <tr>\n",
       "      <th>1180</th>\n",
       "      <td>pos</td>\n",
       "      <td>e7a4b53f799685e337972dd36ba0253c04bcc01</td>\n",
       "      <td>2841696</td>\n",
       "      <td>1449166950</td>\n",
       "      <td>diff --git a/activemq-client/src/main/java/org...</td>\n",
       "      <td>activemq-5.12.2</td>\n",
       "      <td>1452008646</td>\n",
       "      <td>False</td>\n",
       "      <td>https://issues.apache.org/jira/browse/AMQ-6013...</td>\n",
       "      <td>https://github.com/apache/activemq</td>\n",
       "      <td>CVE-2015-5254</td>\n",
       "      <td>32.890000</td>\n",
       "    </tr>\n",
       "    <tr>\n",
       "      <th>745</th>\n",
       "      <td>pos</td>\n",
       "      <td>a7e2a44fe8d4435ae99532eb0ab852e6247f7b16</td>\n",
       "      <td>3888228</td>\n",
       "      <td>1445003063</td>\n",
       "      <td>diff --git a/activemq-client/src/main/java/org...</td>\n",
       "      <td>activemq-5.13.0</td>\n",
       "      <td>1448891291</td>\n",
       "      <td>False</td>\n",
       "      <td>https://issues.apache.org/jira/browse/AMQ-6013...</td>\n",
       "      <td>https://github.com/apache/activemq</td>\n",
       "      <td>CVE-2015-5254</td>\n",
       "      <td>45.002639</td>\n",
       "    </tr>\n",
       "    <tr>\n",
       "      <th>941</th>\n",
       "      <td>pos</td>\n",
       "      <td>028a33ea7d73fabe6161defffdbfc85578328a68</td>\n",
       "      <td>1540355</td>\n",
       "      <td>1455309987</td>\n",
       "      <td>diff --git a/activemq-web-console/src/main/web...</td>\n",
       "      <td>activemq-5.13.2</td>\n",
       "      <td>1456850342</td>\n",
       "      <td>False</td>\n",
       "      <td>https://issues.apache.org/jira/browse/AMQ-6170\\n</td>\n",
       "      <td>https://github.com/apache/activemq</td>\n",
       "      <td>CVE-2016-0734</td>\n",
       "      <td>17.828183</td>\n",
       "    </tr>\n",
       "    <tr>\n",
       "      <th>1144</th>\n",
       "      <td>pos</td>\n",
       "      <td>b8fc78ec6c367cbe2a40a674eaec64ac3d7d1ec</td>\n",
       "      <td>3116249</td>\n",
       "      <td>1488808495</td>\n",
       "      <td>diff --git a/activemq-client/src/main/java/org...</td>\n",
       "      <td>activemq-5.14.5</td>\n",
       "      <td>1491924744</td>\n",
       "      <td>False</td>\n",
       "      <td>https://issues.apache.org/jira/browse/AMQ-6470...</td>\n",
       "      <td>https://github.com/apache/activemq</td>\n",
       "      <td>CVE-2015-7559</td>\n",
       "      <td>36.067697</td>\n",
       "    </tr>\n",
       "    <tr>\n",
       "      <th>221</th>\n",
       "      <td>pos</td>\n",
       "      <td>090aa6252affc978a96c388e3fc2c1c2688d9bb5</td>\n",
       "      <td>-1390319136</td>\n",
       "      <td>1390319136</td>\n",
       "      <td>diff --git a/jboss-seam-remoting/src/main/java...</td>\n",
       "      <td></td>\n",
       "      <td>0</td>\n",
       "      <td>False</td>\n",
       "      <td>https://issues.jboss.org/browse/WFK2-375 enhan...</td>\n",
       "      <td>https://github.com/seam2/jboss-seam</td>\n",
       "      <td>CVE-2013-6448</td>\n",
       "      <td>NaN</td>\n",
       "    </tr>\n",
       "    <tr>\n",
       "      <th>254</th>\n",
       "      <td>pos</td>\n",
       "      <td>f8a612df7b06729bfd6c826e1a110d4bb40dc1f5</td>\n",
       "      <td>32569201</td>\n",
       "      <td>1237992027</td>\n",
       "      <td>diff --git a/framework/modules/geronimo-kernel...</td>\n",
       "      <td>geronimo-2.1.5</td>\n",
       "      <td>1270561228</td>\n",
       "      <td>False</td>\n",
       "      <td>merge rev. 758252 from branches/2.1.4 - GERONI...</td>\n",
       "      <td>https://github.com/apache/geronimo</td>\n",
       "      <td>CVE-2009-0039</td>\n",
       "      <td>376.958345</td>\n",
       "    </tr>\n",
       "    <tr>\n",
       "      <th>1199</th>\n",
       "      <td>pos</td>\n",
       "      <td>f8a612df7b06729bfd6c826e1a110d4bb40dc1f5</td>\n",
       "      <td>32569201</td>\n",
       "      <td>1237992027</td>\n",
       "      <td>diff --git a/framework/modules/geronimo-kernel...</td>\n",
       "      <td>geronimo-2.1.5</td>\n",
       "      <td>1270561228</td>\n",
       "      <td>False</td>\n",
       "      <td>merge rev. 758252 from branches/2.1.4 - GERONI...</td>\n",
       "      <td>https://github.com/apache/geronimo</td>\n",
       "      <td>CVE-2009-0038</td>\n",
       "      <td>376.958345</td>\n",
       "    </tr>\n",
       "    <tr>\n",
       "      <th>432</th>\n",
       "      <td>pos</td>\n",
       "      <td>9385b0ebd277724b167fe1d1456e3c112112be1f</td>\n",
       "      <td>22306446</td>\n",
       "      <td>1472262087</td>\n",
       "      <td>diff --git a/prov/src/main/java/org/bouncycast...</td>\n",
       "      <td>r1rv57</td>\n",
       "      <td>1494568533</td>\n",
       "      <td>False</td>\n",
       "      <td>removed support for non-cbc mode ciphers in IE...</td>\n",
       "      <td>https://github.com/bcgit/bc-java</td>\n",
       "      <td>CVE-2016-1000344</td>\n",
       "      <td>258.176458</td>\n",
       "    </tr>\n",
       "    <tr>\n",
       "      <th>702</th>\n",
       "      <td>pos</td>\n",
       "      <td>78731f8aa37a53385d0194821a5356ab66e2138</td>\n",
       "      <td>4270032</td>\n",
       "      <td>1488217775</td>\n",
       "      <td>diff --git a/model/src/main/java/org/cloudfoun...</td>\n",
       "      <td>3.9.10</td>\n",
       "      <td>1492487807</td>\n",
       "      <td>False</td>\n",
       "      <td>set a global flag to disable clientlockoutpoli...</td>\n",
       "      <td>https://github.com/cloudfoundry/uaa</td>\n",
       "      <td>CVE-2017-4960</td>\n",
       "      <td>49.421667</td>\n",
       "    </tr>\n",
       "    <tr>\n",
       "      <th>1203</th>\n",
       "      <td>pos</td>\n",
       "      <td>58cdbbef9c77ab2b44870f9d606593b49cde76d9</td>\n",
       "      <td>175913</td>\n",
       "      <td>1456845218</td>\n",
       "      <td>diff --git a/arquillian/arquillian-tomee-commo...</td>\n",
       "      <td>tomee-7.0.0-M3</td>\n",
       "      <td>1457021131</td>\n",
       "      <td>False</td>\n",
       "      <td>switching tomee.serialization.class.blacklist ...</td>\n",
       "      <td>https://github.com/apache/tomee</td>\n",
       "      <td>CVE-2016-0779</td>\n",
       "      <td>2.036030</td>\n",
       "    </tr>\n",
       "  </tbody>\n",
       "</table>\n",
       "<p>420 rows × 12 columns</p>\n",
       "</div>"
      ],
      "text/plain": [
       "      cls                                 commit_id  commit_tag_delay  \\\n",
       "763   pos  dc4c3317452f0bc2c5e1f6a08d3bd9f22488b450            126207   \n",
       "330   pos  d79c63d424fe6b225678416343b9ce106dec947c             75177   \n",
       "1263  pos  458e511ce2f2b47fd216f68c0e385fc06a5f1d2f           4188007   \n",
       "515   pos  4df5647f6dfdc5fa7abb812afe9290d60b17c098          50530587   \n",
       "1264  pos   d2e49be3a8f21d862726c1f6bc9e1caa6ee8b58           4665600   \n",
       "537   pos   8ff18c5e254bf43395f2e0d7e3a1092b33ec646       -1512567766   \n",
       "824   pos   4150f107e60cac4a7735fcf7cb4c1889a0cbab6            774010   \n",
       "832   pos  462dcb6f1f93d54923daffb9729c1c8519576c08            773273   \n",
       "1145  pos   83fe9fdec2c86a57898d56c5e109debd9d5c07d            168717   \n",
       "1102  pos   6e9e00bb5bf0aa88444146db3c2eae138cc7b0a            168550   \n",
       "968   pos  36e55998f6352ba3498be950ccab1d5f4d0ce655            433172   \n",
       "139   pos   444b74e95bb299af5e23ebf006fbb45d574fb95           1184330   \n",
       "1109  pos   0eef5b4b425ab42b9fa0fde1a3f36a37b92558f             11046   \n",
       "809   pos   cb8041ba67635edafcc934498ef82707157fd22              2880   \n",
       "1046  pos  880250877b0643956435282afb9c111450cfff4c           1616591   \n",
       "1077  pos  1b91e91194a095ea922f96d1dccddf6fbc446e54           1047147   \n",
       "932   pos  1977bf9df699c571cf3e08c2996533b959d4cb1e           1098157   \n",
       "1202  pos  b1c8477e3e3ee635d19cc4d5987c2b157431e0c1           2515768   \n",
       "894   pos   7b8fa90d96aaf751a3256fa755d5f17e081c20f          17694298   \n",
       "1218  pos  779d5d34e68e50d2f721897050b147106992f566            502845   \n",
       "943   pos  516bda676ac8d0284da3e0295a7df70391315360              1433   \n",
       "1188  pos  cdc0a935c2173aff60039a0b85e57a461381107c            460141   \n",
       "1011  pos  644dfdf96cf82fcd2a2046d93f2b5495f7e94584           2685518   \n",
       "1116  pos  644dfdf96cf82fcd2a2046d93f2b5495f7e94584           2685518   \n",
       "437   pos  639e20992a66d7a42fb59c974db91c8a0f730a1e          71093805   \n",
       "320   pos  639e20992a66d7a42fb59c974db91c8a0f730a1e          71093805   \n",
       "886   pos  e76505ba9bb59d9a8b5ae7c103867b00005ac676            147684   \n",
       "297   pos  a9dd96046d7acb0357c6b7b9e6cc70d186fae663            139716   \n",
       "1085  pos  bed3a1a0d06a3c787183c6e90f326bbe17e49dd4            703078   \n",
       "1113  pos   32569285018a464dcbd9d4c120a11cc4b767f8e             21494   \n",
       "...   ...                                       ...               ...   \n",
       "707   pos  a222f2d9d1bca3422e6a462a7f587ae325455b80              3180   \n",
       "654   pos   ccc374a7176d7704941fb494589790b7673efe2             24172   \n",
       "895   pos   4cba3b5a350f4d477466fc73b32cbd653eee840           2509792   \n",
       "744   pos   f7cbf90a72a19476ea2d3d1ddc96c45a24b9f57       -1496353509   \n",
       "977   pos   8efc6e986554ae66eab93cd64a9035d716adbab          22968743   \n",
       "1201  pos  9952b53b57498852cba799b47f00238e52114c7c       -1496360741   \n",
       "1097  pos  69735b0f4ab9ad7df4b82e8c917589b52cb9978c              8161   \n",
       "586   pos  764fda6420a0aa10db4abef15429b5e77b9be8bf          21803815   \n",
       "1016  pos   9f91c619a35db89544f5c85795df4128c9f0d96       -1499342668   \n",
       "1228  pos   2f5ecbcf9ed7a3a4fd37b5c55860ad8eace1bea           9160361   \n",
       "841   pos  e912b7cb5c68fbb87b874d41068cf5a3aea17da0          11008571   \n",
       "1277  pos  74b9b270787aa602196d59d58893c3a6e09816f9          36215674   \n",
       "1148  pos   01edea6337c8ddb2ab80906aa1254d3c1dc02fb             14213   \n",
       "970   pos   b6d6526cb89120043d390bf0274cd062e9fc452             23409   \n",
       "1008  pos   d0e33ace71b7603450fc1aa7725f53dbc545831           8913716   \n",
       "587   pos   62926cae31a02d4f23d21148435804b96c543cc           9697928   \n",
       "1176  pos  b2d3932b847a171a85e356aa230af461a0f80d91             18992   \n",
       "1110  pos  0b5231ada5ce365b41832ba8752ee210145d1cbe          12444883   \n",
       "491   pos   7eb9b218b2705cf9273e30ee2da026e43b6dd4e           2841681   \n",
       "356   pos  e100638244c4ca5eb2a1f16bcdc671c9859c2694           3554234   \n",
       "1180  pos   e7a4b53f799685e337972dd36ba0253c04bcc01           2841696   \n",
       "745   pos  a7e2a44fe8d4435ae99532eb0ab852e6247f7b16           3888228   \n",
       "941   pos  028a33ea7d73fabe6161defffdbfc85578328a68           1540355   \n",
       "1144  pos   b8fc78ec6c367cbe2a40a674eaec64ac3d7d1ec           3116249   \n",
       "221   pos  090aa6252affc978a96c388e3fc2c1c2688d9bb5       -1390319136   \n",
       "254   pos  f8a612df7b06729bfd6c826e1a110d4bb40dc1f5          32569201   \n",
       "1199  pos  f8a612df7b06729bfd6c826e1a110d4bb40dc1f5          32569201   \n",
       "432   pos  9385b0ebd277724b167fe1d1456e3c112112be1f          22306446   \n",
       "702   pos   78731f8aa37a53385d0194821a5356ab66e2138           4270032   \n",
       "1203  pos  58cdbbef9c77ab2b44870f9d606593b49cde76d9            175913   \n",
       "\n",
       "      commit_timestamp                                               diff  \\\n",
       "763         1472597786  diff --git a/java/org/apache/catalina/realm/Da...   \n",
       "330         1472597763  diff --git a/java/org/apache/catalina/realm/Da...   \n",
       "1263        1380253020  diff --git a/jetty-util/src/main/java/org/ecli...   \n",
       "515         1424727893  diff --git a/jetty-http/src/main/java/org/ecli...   \n",
       "1264        1512567732  diff --git a/activemq-client/src/main/java/org...   \n",
       "537         1512567766  diff --git a/activemq-client/src/main/java/org...   \n",
       "824         1458075612  diff --git a/spring-amqp/src/main/java/org/spr...   \n",
       "832         1458075370  diff --git a/spring-amqp/src/main/java/org/spr...   \n",
       "1145        1504711070  diff --git a/spring-amqp/src/main/java/org/spr...   \n",
       "1102        1504710986  diff --git a/spring-amqp/src/main/java/org/spr...   \n",
       "968         1504710849  diff --git a/spring-amqp/src/main/java/org/spr...   \n",
       "139         1535487578  diff --git a/build.gradle b/build.gradle\\ninde...   \n",
       "1109        1516813568  diff --git a/config/src/main/java/org/springfr...   \n",
       "809         1516833100  diff --git a/config/src/main/java/org/springfr...   \n",
       "1046        1471625873  diff --git a/conf/web.xml b/conf/web.xml\\ninde...   \n",
       "1077        1471625793  diff --git a/conf/web.xml b/conf/web.xml\\ninde...   \n",
       "932         1471625836  diff --git a/conf/web.xml b/conf/web.xml\\ninde...   \n",
       "1202        1403170303  diff --git a/java/org/apache/coyote/http11/Abs...   \n",
       "894         1525728212  diff --git a/config/src/main/java/org/springfr...   \n",
       "1218        1478089088  diff --git a/java/org/apache/coyote/http11/Abs...   \n",
       "943         1478087834  diff --git a/java/org/apache/coyote/http11/Htt...   \n",
       "1188        1478093434  diff --git a/java/org/apache/coyote/http11/Abs...   \n",
       "1011        1313686179  diff --git a/STATUS.txt b/STATUS.txt\\nindex ea...   \n",
       "1116        1313686179  diff --git a/STATUS.txt b/STATUS.txt\\nindex ea...   \n",
       "437         1301657814  diff --git a/java/org/apache/catalina/authenti...   \n",
       "320         1301657814  diff --git a/java/org/apache/catalina/authenti...   \n",
       "886         1506544075  diff --git a/java/org/apache/catalina/webresou...   \n",
       "297         1506381656  diff --git a/java/org/apache/catalina/webresou...   \n",
       "1085        1378909190  diff --git a/java/org/apache/coyote/http11/Abs...   \n",
       "1113        1472586304  diff --git a/server/src/main/java/org/cloudfou...   \n",
       "...                ...                                                ...   \n",
       "707         1519209107  diff --git a/src/main/java/com/sonyericsson/hu...   \n",
       "654         1513187944  diff --git a/core/src/main/java/jenkins/model/...   \n",
       "895         1496353482  diff --git a/launcher/src/main/java/org/apache...   \n",
       "744         1496353509  diff --git a/launcher/src/main/java/org/apache...   \n",
       "977         1496353474  diff --git a/launcher/src/main/java/org/apache...   \n",
       "1201        1496360741  diff --git a/launcher/src/main/java/org/apache...   \n",
       "1097        1423657697  diff --git a/src/main/java/org/elasticsearch/s...   \n",
       "586         1423657303  diff --git a/src/main/java/org/elasticsearch/s...   \n",
       "1016        1499342668  diff --git a/solr/core/src/java/org/apache/sol...   \n",
       "1228        1499342719  diff --git a/solr/core/src/java/org/apache/sol...   \n",
       "841         1493876581  diff --git a/solr/core/src/java/org/apache/sol...   \n",
       "1277        1492716266  diff --git a/server/src/main/java/org/cloudfou...   \n",
       "1148        1492726300  diff --git a/common/src/main/java/org/cloudfou...   \n",
       "970         1492716666  diff --git a/server/src/main/java/org/cloudfou...   \n",
       "1008        1511953907  diff --git a/backend/manager/modules/vdsbroker...   \n",
       "587         1527259483  diff --git a/tika-parsers/src/main/java/org/ap...   \n",
       "1176        1523907406  diff --git a/tika-server/src/main/java/org/apa...   \n",
       "1110        1410177085  diff --git a/activemq-broker/src/main/java/org...   \n",
       "491         1449166965  diff --git a/activemq-client/src/main/java/org...   \n",
       "356         1445337057  diff --git a/activemq-client/src/main/java/org...   \n",
       "1180        1449166950  diff --git a/activemq-client/src/main/java/org...   \n",
       "745         1445003063  diff --git a/activemq-client/src/main/java/org...   \n",
       "941         1455309987  diff --git a/activemq-web-console/src/main/web...   \n",
       "1144        1488808495  diff --git a/activemq-client/src/main/java/org...   \n",
       "221         1390319136  diff --git a/jboss-seam-remoting/src/main/java...   \n",
       "254         1237992027  diff --git a/framework/modules/geronimo-kernel...   \n",
       "1199        1237992027  diff --git a/framework/modules/geronimo-kernel...   \n",
       "432         1472262087  diff --git a/prov/src/main/java/org/bouncycast...   \n",
       "702         1488217775  diff --git a/model/src/main/java/org/cloudfoun...   \n",
       "1203        1456845218  diff --git a/arquillian/arquillian-tomee-commo...   \n",
       "\n",
       "                         fix_tag  fix_tag_timestamp  in_nvd  \\\n",
       "763                TOMCAT_8_0_37         1472723993   False   \n",
       "330                 TOMCAT_8_5_5         1472672940   False   \n",
       "1263                 jetty-9.0.x         1384441027   False   \n",
       "515              jetty-9.3.13.M0         1475258480   False   \n",
       "1264             activemq-5.15.3         1517233332   False   \n",
       "537                                               0   False   \n",
       "824               v1.5.5.RELEASE         1458849622   False   \n",
       "832                    v1.6.0.M2         1458848643   False   \n",
       "1145              v1.5.7.RELEASE         1504879787   False   \n",
       "1102             v1.6.11.RELEASE         1504879536   False   \n",
       "968                   v2.0.0.RC1         1505144021   False   \n",
       "139                    v2.1.0.M3         1536671908   False   \n",
       "1109               5.0.1.RELEASE         1516824614   False   \n",
       "809                4.2.4.RELEASE         1516835980   False   \n",
       "1046               TOMCAT_7_0_71         1473242464   False   \n",
       "1077                TOMCAT_8_5_5         1472672940   False   \n",
       "932                TOMCAT_8_0_37         1472723993   False   \n",
       "1202               TOMCAT_7_0_55         1405686071   False   \n",
       "894               5.0.10.RELEASE         1543422510   False   \n",
       "1218               TOMCAT_8_0_39         1478591933   False   \n",
       "943             TOMCAT_9_0_0_M12         1478089267   False   \n",
       "1188               TOMCAT_7_0_73         1478553575   False   \n",
       "1011               TOMCAT_5_5_34         1316371697   False   \n",
       "1116               TOMCAT_5_5_34         1316371697   False   \n",
       "437                TOMCAT_7_0_42         1372751619   False   \n",
       "320                TOMCAT_7_0_42         1372751619   False   \n",
       "886                TOMCAT_8_0_47         1506691759   False   \n",
       "297                 TOMCAT_9_0_1         1506521372   False   \n",
       "1085               TOMCAT_7_0_43         1379612268   False   \n",
       "1113                     3.3.0.5         1472607798   False   \n",
       "...                          ...                ...     ...   \n",
       "707        gerrit-trigger-2.27.5         1519212287   False   \n",
       "654               jenkins-2.89.2         1513212116   False   \n",
       "895                       v2.2.0         1498863274   False   \n",
       "744                                               0   False   \n",
       "977                       v2.3.0         1519322217   False   \n",
       "1201                                              0   False   \n",
       "1097                      v1.3.8         1423665858   False   \n",
       "586                       v2.0.0         1445461118   False   \n",
       "1016                                              0   False   \n",
       "1228  releases/lucene-solr/5.5.5         1508503080   False   \n",
       "841   releases/lucene-solr/7.0.0         1504885152   False   \n",
       "1277                      4.10.1         1528931940   False   \n",
       "1148                    2.7.4.15         1492740513   False   \n",
       "970                       3.9.11         1492740075   False   \n",
       "1008                    4.1.10.3         1520867623   False   \n",
       "587                         1.19         1536957411   False   \n",
       "1176                    1.18-rc2         1523926398   False   \n",
       "1110             activemq-5.11.0         1422621968   False   \n",
       "491              activemq-5.12.2         1452008646   False   \n",
       "356              activemq-5.13.0         1448891291   False   \n",
       "1180             activemq-5.12.2         1452008646   False   \n",
       "745              activemq-5.13.0         1448891291   False   \n",
       "941              activemq-5.13.2         1456850342   False   \n",
       "1144             activemq-5.14.5         1491924744   False   \n",
       "221                                               0   False   \n",
       "254               geronimo-2.1.5         1270561228   False   \n",
       "1199              geronimo-2.1.5         1270561228   False   \n",
       "432                       r1rv57         1494568533   False   \n",
       "702                       3.9.10         1492487807   False   \n",
       "1203              tomee-7.0.0-M3         1457021131   False   \n",
       "\n",
       "                                                    msg  \\\n",
       "763    Make timing attacks against the Realm impleme...   \n",
       "330    Make timing attacks against the Realm impleme...   \n",
       "1263  418014 Handle NTFS canonical exceptions during...   \n",
       "515   460642 - HttpParser error 400 can expose previ...   \n",
       "1264  AMQ-6871 - By default only send generic platfo...   \n",
       "537   AMQ-6871 - By default only send generic platfo...   \n",
       "824         AMQP-590: Java Deserialization White List\\n   \n",
       "832         AMQP-590: Java Deserialization White List\\n   \n",
       "1145  AMQP-766: Deserialization in Message.toString()\\n   \n",
       "1102  AMQP-766: Deserialization in Message.toString()\\n   \n",
       "968   AMQP-766: Deserialization in Message.toString()\\n   \n",
       "139   AMQP-830 Enable Hostname Verification by defau...   \n",
       "1109                           Add StrictHttpFirewall\\n   \n",
       "809                            Add StrictHttpFirewall\\n   \n",
       "1046  Add a new initialisation parameter, envHttpHea...   \n",
       "1077  Add a new initialisation parameter, envHttpHea...   \n",
       "932   Add a new initialisation parameter, envHttpHea...   \n",
       "1202  Add a new limit, defaulting to 2MB, for the am...   \n",
       "894   Add accessDeniedHandler method to ExceptionHan...   \n",
       "1218  Add additional checks for valid characters to ...   \n",
       "943   Add additional checks for valid characters to ...   \n",
       "1188  Add additional checks for valid characters to ...   \n",
       "1011  Add additional configuration options to the DI...   \n",
       "1116  Add additional configuration options to the DI...   \n",
       "437   Add additional configuration options to the DI...   \n",
       "320   Add additional configuration options to the DI...   \n",
       "886   Add some additional checks required on Windows...   \n",
       "297   Add some additional checks required on Windows...   \n",
       "1085  Add support for limiting the size of chunk ext...   \n",
       "1113  Add test for csrf token for approvals pages Im...   \n",
       "...                                                 ...   \n",
       "707   [SECURITY-402,SECURITY-403] Squashed commit of...   \n",
       "654   [SECURITY-667] Ensure all tasks have completed...   \n",
       "895   [SPARK-20922][CORE] Add whitelist of classes t...   \n",
       "744   [SPARK-20922][CORE] Add whitelist of classes t...   \n",
       "977   [SPARK-20922][CORE] Add whitelist of classes t...   \n",
       "1201  [SPARK-20922][CORE][HOTFIX] Don't use Java 8 l...   \n",
       "1097   [TEST] make sandbox settings explicit in Tests\\n   \n",
       "586    [TEST] make sandbox settings explicit in Tests\\n   \n",
       "1016            added extra check if it is a liveNode\\n   \n",
       "1228            added extra check if it is a liveNode\\n   \n",
       "841             added extra check if it is a liveNode\\n   \n",
       "1277                     better parsing of attributes\\n   \n",
       "1148                     better parsing of attributes\\n   \n",
       "970                      better parsing of attributes\\n   \n",
       "1008              core: deprecate discard_zeroes_data\\n   \n",
       "587                          fix logic in iptc parser\\n   \n",
       "1176                      fix potential resource leak\\n   \n",
       "1110  https://issues.apache.org/jira/browse/AMQ-5345...   \n",
       "491   https://issues.apache.org/jira/browse/AMQ-6013...   \n",
       "356   https://issues.apache.org/jira/browse/AMQ-6013...   \n",
       "1180  https://issues.apache.org/jira/browse/AMQ-6013...   \n",
       "745   https://issues.apache.org/jira/browse/AMQ-6013...   \n",
       "941    https://issues.apache.org/jira/browse/AMQ-6170\\n   \n",
       "1144  https://issues.apache.org/jira/browse/AMQ-6470...   \n",
       "221   https://issues.jboss.org/browse/WFK2-375 enhan...   \n",
       "254   merge rev. 758252 from branches/2.1.4 - GERONI...   \n",
       "1199  merge rev. 758252 from branches/2.1.4 - GERONI...   \n",
       "432   removed support for non-cbc mode ciphers in IE...   \n",
       "702   set a global flag to disable clientlockoutpoli...   \n",
       "1203  switching tomee.serialization.class.blacklist ...   \n",
       "\n",
       "                                               repo_url           vuln_id  \\\n",
       "763                  https://github.com/apache/tomcat80     CVE-2016-0762   \n",
       "330                  https://github.com/apache/tomcat85     CVE-2016-0762   \n",
       "1263           https://github.com/eclipse/jetty.project        PT-2013-65   \n",
       "515            https://github.com/eclipse/jetty.project     CVE-2015-2080   \n",
       "1264                 https://github.com/apache/activemq    CVE-2017-15709   \n",
       "537                  https://github.com/apache/activemq    CVE-2017-15709   \n",
       "824      https://github.com/spring-projects/spring-amqp          AMQP-590   \n",
       "832      https://github.com/spring-projects/spring-amqp          AMQP-590   \n",
       "1145     https://github.com/spring-projects/spring-amqp     CVE-2017-8045   \n",
       "1102     https://github.com/spring-projects/spring-amqp     CVE-2017-8045   \n",
       "968      https://github.com/spring-projects/spring-amqp     CVE-2017-8045   \n",
       "139     https://github.com/spring-projects/spring-amqp/    CVE-2018-11087   \n",
       "1109  https://github.com/spring-projects/spring-secu...     CVE-2018-1199   \n",
       "809   https://github.com/spring-projects/spring-secu...     CVE-2018-1199   \n",
       "1046                 https://github.com/apache/tomcat70     CVE-2016-5388   \n",
       "1077                 https://github.com/apache/tomcat85     CVE-2016-5388   \n",
       "932                  https://github.com/apache/tomcat80     CVE-2016-5388   \n",
       "1202                 https://github.com/apache/tomcat70     CVE-2014-0230   \n",
       "894   https://github.com/spring-projects/spring-secu...     CVE-2018-1258   \n",
       "1218                 https://github.com/apache/tomcat80     CVE-2016-6816   \n",
       "943                    https://github.com/apache/tomcat     CVE-2016-6816   \n",
       "1188                 https://github.com/apache/tomcat70     CVE-2016-6816   \n",
       "1011                 https://github.com/apache/tomcat55     CVE-2011-1184   \n",
       "1116                 https://github.com/apache/tomcat55     CVE-2011-5063   \n",
       "437                    https://github.com/apache/tomcat     CVE-2011-5062   \n",
       "320                    https://github.com/apache/tomcat     CVE-2011-5063   \n",
       "886                  https://github.com/apache/tomcat80    CVE-2017-12617   \n",
       "297                    https://github.com/apache/tomcat    CVE-2017-12617   \n",
       "1085                 https://github.com/apache/tomcat70     CVE-2013-4322   \n",
       "1113                https://github.com/cloudfoundry/uaa     CVE-2016-6637   \n",
       "...                                                 ...               ...   \n",
       "707   https://github.com/jenkinsci/gerrit-trigger-pl...  CVE-2018-1000105   \n",
       "654               https://github.com/jenkinsci/jenkins/  CVE-2017-1000503   \n",
       "895                    https://github.com/apache/spark/    CVE-2017-12612   \n",
       "744                    https://github.com/apache/spark/    CVE-2017-12612   \n",
       "977                    https://github.com/apache/spark/    CVE-2017-12612   \n",
       "1201                   https://github.com/apache/spark/    CVE-2017-12612   \n",
       "1097           https://github.com/elastic/elasticsearch     CVE-2015-1427   \n",
       "586            https://github.com/elastic/elasticsearch     CVE-2015-1427   \n",
       "1016              https://github.com/apache/lucene-solr     CVE-2017-7660   \n",
       "1228              https://github.com/apache/lucene-solr     CVE-2017-7660   \n",
       "841               https://github.com/apache/lucene-solr     CVE-2017-7660   \n",
       "1277                https://github.com/cloudfoundry/uaa     CVE-2017-4974   \n",
       "1148                https://github.com/cloudfoundry/uaa     CVE-2017-4974   \n",
       "970                 https://github.com/cloudfoundry/uaa     CVE-2017-4974   \n",
       "1008              https://gerrit.ovirt.org/ovirt-engine     CVE-2018-1062   \n",
       "587                     https://github.com/apache/tika/     CVE-2018-8017   \n",
       "1176                    https://github.com/apache/tika/     CVE-2018-1335   \n",
       "1110                 https://github.com/apache/activemq     CVE-2014-3612   \n",
       "491                  https://github.com/apache/activemq     CVE-2015-5254   \n",
       "356                  https://github.com/apache/activemq     CVE-2015-5254   \n",
       "1180                 https://github.com/apache/activemq     CVE-2015-5254   \n",
       "745                  https://github.com/apache/activemq     CVE-2015-5254   \n",
       "941                  https://github.com/apache/activemq     CVE-2016-0734   \n",
       "1144                 https://github.com/apache/activemq     CVE-2015-7559   \n",
       "221                 https://github.com/seam2/jboss-seam     CVE-2013-6448   \n",
       "254                  https://github.com/apache/geronimo     CVE-2009-0039   \n",
       "1199                 https://github.com/apache/geronimo     CVE-2009-0038   \n",
       "432                    https://github.com/bcgit/bc-java  CVE-2016-1000344   \n",
       "702                 https://github.com/cloudfoundry/uaa     CVE-2017-4960   \n",
       "1203                    https://github.com/apache/tomee     CVE-2016-0779   \n",
       "\n",
       "            days  \n",
       "763     1.460729  \n",
       "330     0.870104  \n",
       "1263   48.472303  \n",
       "515   584.844757  \n",
       "1264   54.000000  \n",
       "537          NaN  \n",
       "824     8.958449  \n",
       "832     8.949919  \n",
       "1145    1.952743  \n",
       "1102    1.950810  \n",
       "968     5.013565  \n",
       "139    13.707523  \n",
       "1109    0.127847  \n",
       "809     0.033333  \n",
       "1046   18.710544  \n",
       "1077   12.119757  \n",
       "932    12.710150  \n",
       "1202   29.117685  \n",
       "894   204.795116  \n",
       "1218    5.819965  \n",
       "943     0.016586  \n",
       "1188    5.325706  \n",
       "1011   31.082384  \n",
       "1116   31.082384  \n",
       "437   822.844965  \n",
       "320   822.844965  \n",
       "886     1.709306  \n",
       "297     1.617083  \n",
       "1085    8.137477  \n",
       "1113    0.248773  \n",
       "...          ...  \n",
       "707     0.036806  \n",
       "654     0.279769  \n",
       "895    29.048519  \n",
       "744          NaN  \n",
       "977   265.841933  \n",
       "1201         NaN  \n",
       "1097    0.094456  \n",
       "586   252.358970  \n",
       "1016         NaN  \n",
       "1228  106.022697  \n",
       "841   127.414016  \n",
       "1277  419.162894  \n",
       "1148    0.164502  \n",
       "970     0.270937  \n",
       "1008  103.168009  \n",
       "587   112.244537  \n",
       "1176    0.219815  \n",
       "1110  144.037998  \n",
       "491    32.889826  \n",
       "356    41.136968  \n",
       "1180   32.890000  \n",
       "745    45.002639  \n",
       "941    17.828183  \n",
       "1144   36.067697  \n",
       "221          NaN  \n",
       "254   376.958345  \n",
       "1199  376.958345  \n",
       "432   258.176458  \n",
       "702    49.421667  \n",
       "1203    2.036030  \n",
       "\n",
       "[420 rows x 12 columns]"
      ]
     },
     "execution_count": 16,
     "metadata": {},
     "output_type": "execute_result"
    }
   ],
   "source": [
    "df_pos_dedup = df_pos.drop_duplicates(subset='msg')\n",
    "df_pos[df_pos.duplicated(subset='msg')].vuln_id.nunique()\n",
    "# df_pos_dedup.vuln_id.nunique()\n",
    "df_pos[dup_idx].sort_values('msg')"
   ]
  },
  {
   "cell_type": "code",
   "execution_count": 17,
   "metadata": {
    "scrolled": true
   },
   "outputs": [
    {
     "name": "stdout",
     "output_type": "stream",
     "text": [
      "[DATASETSIZEPOS] Number of 'pos' commits in the dataset (this includes duplicates!): 1282\n",
      "[DATASETSIZEPOSDEDUP] Number of pos commits, **de-duplicated**: 862\n"
     ]
    }
   ],
   "source": [
    "le.save('DATASETSIZEPOS', len(df_pos.index), 'Number of \\'pos\\' commits in the dataset (this includes duplicates!)' )\n",
    "le.save('DATASETSIZEPOSDEDUP', len(df_pos_dedup), 'Number of pos commits, **de-duplicated**')\n",
    "# le.print()"
   ]
  },
  {
   "cell_type": "markdown",
   "metadata": {},
   "source": [
    "## Expand dataset with 'negative' instances"
   ]
  },
  {
   "cell_type": "code",
   "execution_count": null,
   "metadata": {
    "scrolled": false
   },
   "outputs": [
    {
     "name": "stderr",
     "output_type": "stream",
     "text": [
      " 31%|███       | 75/243 [02:18<05:09,  1.84s/it]"
     ]
    }
   ],
   "source": [
    "# import pandas as pd\n",
    "# from acacia.git import *\n",
    "# # from acacia.dataset import *\n",
    "# from tqdm import tqdm\n",
    "\n",
    "import random\n",
    "RND_SEED=17534532\n",
    "\n",
    "def expand_dataset(repos_set, df_pos):\n",
    "    neg_instances = []\n",
    "    SEC_REGEXP = '(denial.of.service|XXE|remote.code.execution|open.redirect|osvdb|secur.+|vuln.+|exploit.+|malicious.*|attack.*|dos|directory.traversal|injection|cve-\\d+-\\d+|xss|nvd|cross.site|csrf|rce|clickjack|session.fixation|advisory|insecur.+|cross.origin|unauthori[z|s].+)'\n",
    "\n",
    "    for repo in tqdm(repos_set):\n",
    "        count = len(df_pos.loc[df_pos['repo_url'] == repo])\n",
    "        commits = get_random_commits(int(count * RATIO_POS_NEG), repo, GIT_REPO_FOLDER)\n",
    "        for c in commits:\n",
    "            try:\n",
    "                new_instance = {}\n",
    "                commit_msg = extract_commit_msg(c, repo, GIT_REPO_FOLDER)\n",
    "                commit_diff = extract_commit_diff(c, repo, GIT_REPO_FOLDER) \n",
    "                if re.match(SEC_REGEXP, commit_msg.decode(\"utf-8\")):\n",
    "                    print('Found match of SEC_REGEXP in NEG instance')\n",
    "                    print(commit_msg)\n",
    "\n",
    "                new_instance = {\n",
    "                    'msg' : commit_msg.decode(\"latin-1\") ,\n",
    "                    'diff': commit_diff.decode(\"latin-1\") ,\n",
    "                    'cls': 'neg',\n",
    "                    'commit_id': c,\n",
    "                    'repo_url': repo ,\n",
    "                    'vuln_id' : '',\n",
    "                    'in_nvd': False,\n",
    "                    'fix_tag': '',\n",
    "                    'fix_tag_timestamp': 0,\n",
    "                    'commit_timestamp' : 0,\n",
    "                    'commit_tag_delay': 0\n",
    "                }\n",
    "                neg_instances.append(new_instance)\n",
    "            except Exception as e:\n",
    "                print('There was an exception with this commit, skipping: %s:%s' % (repo,c) )\n",
    "                print(e)\n",
    "    return pd.DataFrame(neg_instances)\n",
    "\n",
    "random.seed(RND_SEED)\n",
    "df_neg = expand_dataset(repos_set,df_pos_dedup)\n"
   ]
  },
  {
   "cell_type": "code",
   "execution_count": null,
   "metadata": {
    "scrolled": true
   },
   "outputs": [],
   "source": [
    "df_neg = pd.DataFrame()\n",
    "df_all = pd.concat([df_pos_dedup, df_neg], ignore_index = True)\n",
    "overall_size = len(df_all.index)\n",
    "print('The dataset contains '+ str(overall_size) + ' commits')"
   ]
  },
  {
   "cell_type": "markdown",
   "metadata": {},
   "source": [
    "## Persist dataset"
   ]
  },
  {
   "cell_type": "markdown",
   "metadata": {},
   "source": [
    "### Pickle"
   ]
  },
  {
   "cell_type": "code",
   "execution_count": null,
   "metadata": {},
   "outputs": [],
   "source": [
    "df_all.to_pickle(DATASET_NAME + '_all.pd')\n",
    "df_pos.to_pickle(DATASET_NAME + '_pos.pd')\n",
    "df_pos_dedup.to_pickle(DATASET_NAME + '_pos_dedup.pd')"
   ]
  },
  {
   "cell_type": "markdown",
   "metadata": {},
   "source": [
    "### CSV"
   ]
  },
  {
   "cell_type": "code",
   "execution_count": null,
   "metadata": {},
   "outputs": [],
   "source": [
    "df_all[['repo_url','commit_id','cls']].to_csv(DATASET_NAME + '.csv')\n",
    "df_pos_dedup[['repo_url','commit_id','cls']].to_csv(DATASET_NAME + '_pos_dedup.csv')\n",
    "df_pos[['repo_url','commit_id','cls']].to_csv(DATASET_NAME + '_pos.csv')"
   ]
  },
  {
   "cell_type": "markdown",
   "metadata": {},
   "source": [
    "# Analysis"
   ]
  },
  {
   "cell_type": "code",
   "execution_count": null,
   "metadata": {},
   "outputs": [],
   "source": [
    "df_pos = pd.read_pickle(DATASET_NAME + '_pos.pd')\n",
    "df_pos_dedup = pd.read_pickle(DATASET_NAME + '_pos_dedup.pd')"
   ]
  },
  {
   "cell_type": "code",
   "execution_count": null,
   "metadata": {},
   "outputs": [],
   "source": [
    " def diff(first, second):\n",
    "        second = set(second)\n",
    "        return [item for item in first if item not in second]\n",
    "\n",
    "le.save('VULNLOSSDEDUP',\n",
    "            len(diff(set(df_pos['vuln_id'].values),set(df_pos_dedup['vuln_id'].values))),\n",
    "            'Number of vulnerabilities removed by the deduplication as they have the same fix commits than other vulnerabilities ')\n"
   ]
  },
  {
   "cell_type": "code",
   "execution_count": null,
   "metadata": {},
   "outputs": [],
   "source": [
    "def print_counts(df, suffix=''):\n",
    "    print(\"Dataset size:           {}\".format(len(df.index)))\n",
    "    print(\"Instances of class POS: {}\".format(len(df[df['cls'] == POS_CLS ])))\n",
    "    print(\"Instances of class NEG: {}\".format(len(df[df['cls'] == NEG_CLS ])))\n",
    "\n",
    "    le.save('COMMITCOUNT' + suffix,\n",
    "            len(df[df['cls'] == POS_CLS ]),\n",
    "            'Number of commits ' + suffix)\n",
    "    \n",
    "    le.save('VULNCOUNT'+suffix,\n",
    "            df[df['cls'] == POS_CLS ].vuln_id.nunique(),\n",
    "            'Unique vulnerabilities (after mapping vulns) ' + suffix)\n",
    "\n",
    "    le.save('REPOCOUNT'+suffix,\n",
    "            df[df['cls'] == POS_CLS ].repo_url.nunique(),\n",
    "            'Number of unique repositories (after removing internal, dead, svn). ' + suffix)\n",
    "    \n",
    "    df.head()\n",
    "\n",
    "print_counts(df_pos)\n",
    "print('-----------------------------------------------')\n",
    "print_counts(df_pos_dedup,'DEDUP')\n",
    "\n",
    "print('-----------------------------------------------')\n",
    "le.print()\n"
   ]
  },
  {
   "cell_type": "markdown",
   "metadata": {},
   "source": [
    "### Number of Commits per CVE"
   ]
  },
  {
   "cell_type": "code",
   "execution_count": null,
   "metadata": {},
   "outputs": [],
   "source": [
    "def printVulnXCommit(df,suffix=''):\n",
    "    df2 = df.loc[df['cls']==POS_CLS,['commit_id','vuln_id']]\n",
    "    df_vulnOnly = df2[['vuln_id']]\n",
    "    df_vulnOnly['commits'] = df_vulnOnly.groupby('vuln_id')['vuln_id'].transform('count')\n",
    "    df_vulnOnly=df_vulnOnly.drop_duplicates(subset=None, keep='first', inplace=False).sort_values(by='commits',ascending=False)\n",
    "    #print(df_vulnOnly.sort_values(by='commits',ascending=False).head(20))\n",
    "    print(\"Number of vuln with 1 commit: {}\".format(len(df_vulnOnly[df_vulnOnly['commits']==1])))\n",
    "\n",
    "\n",
    "    with open('msr2019/tex/commitXvuln'+suffix+'.tex','w') as tf:\n",
    "        tf.write(df_vulnOnly.to_latex(columns=['vuln_id','commits'],index=False, column_format='lc'))\n",
    "        \n",
    "    # Create figure\n",
    "    f, ax1 = plt.subplots(figsize=(5,3), dpi=200)\n",
    "\n",
    "    df_vulnOnly.groupby('commits').count().plot(ax=ax1, kind='bar',logy=True )\n",
    "\n",
    "    labels = df_vulnOnly.groupby('commits').count()\n",
    "    print(labels['vuln_id'].tolist())\n",
    "    #for i, v in enumerate(labels['vuln_id'].tolist()):\n",
    "    #    ax1.text(v , i + .25, str(v), color='blue', fontweight='bold')\n",
    "    \n",
    "    #ax1.legend(loc=(0.65,0.05))\n",
    "    ax1.legend().set_visible(False)\n",
    "\n",
    "    f.subplots_adjust(hspace=0.1)\n",
    "    # plt.xticks([0.1, 0.2, 0.3, 0.4, 0.5, 0.6, 0.7, 0.8, 0.9])\n",
    "\n",
    "    ax1.grid(False)\n",
    "    # ax1.set_title('msg', x=0.92, y=0.05)\n",
    "    #ax1.set_title('# Vulnerabilities', x=0.52, y=0.85)\n",
    "    plt.ylabel('# Vulnerabilities')\n",
    "    plt.xlabel('# Commits')\n",
    "\n",
    "    plt.setp([a.get_xticklabels() for a in f.axes[:-1]], visible=False)\n",
    "    plt.savefig('msr2019/img/commitXvuln'+suffix+'.pdf', dpi=200, bbox_inches='tight')\n",
    "\n",
    "printVulnXCommit(df_pos)\n",
    "print('-----------------------------------------------')\n",
    "printVulnXCommit(df_pos_dedup,'DEDUP')\n",
    "        "
   ]
  },
  {
   "cell_type": "markdown",
   "metadata": {},
   "source": [
    "### Number of vulnerabilities per repository"
   ]
  },
  {
   "cell_type": "code",
   "execution_count": null,
   "metadata": {},
   "outputs": [],
   "source": [
    "def printvulnXrepo(df,suffix=''):\n",
    "    df1=df.loc[df['cls']==POS_CLS,['repo_url','vuln_id']]\n",
    "\n",
    "    #df1.groupby('repo_url').vuln_id.nunique()\n",
    "    df1['distinct_vuln']=df1.groupby('repo_url')['vuln_id'].transform('nunique')\n",
    "    df1.sort_values(by=['repo_url','vuln_id'])\n",
    "\n",
    "\n",
    "\n",
    "    df1=df1[['repo_url','distinct_vuln']].drop_duplicates(subset=None, keep='first', inplace=False).sort_values(by='distinct_vuln',ascending=False)\n",
    "    #df1.plot()\n",
    "    #df1.groupby('distinct_vuln').count().plot(kind='bar')\n",
    "\n",
    "    with open('msr2019/tex/vulnXrepo'+suffix+'.tex','w') as tf:\n",
    "        tf.write(df1.to_latex(columns=['repo_url','distinct_vuln'],index=False, column_format='lc'))\n",
    "        # Create figure\n",
    "    f, ax1 = plt.subplots(figsize=(5,3), dpi=200)\n",
    "    #print(df1.groupby('distinct_vuln').count())\n",
    "    df1.groupby('distinct_vuln').count().plot(ax=ax1, kind='bar',logy=True )\n",
    "\n",
    "    #ax1.legend(loc=(0.65,0.05))\n",
    "    ax1.legend().set_visible(False)\n",
    "\n",
    "    f.subplots_adjust(hspace=0.1)\n",
    "    #plt.xticks([0.1, 0.2, 0.3, 0.4, 0.5, 0.6, 0.7, 0.8, 0.9])\n",
    "\n",
    "    ax1.grid(False)\n",
    "    # ax1.set_title('msg', x=0.92, y=0.05)\n",
    "    #ax1.set_title('# Repo', x=0.52, y=0.85)\n",
    "    plt.ylabel('#Repositories')\n",
    "    plt.xlabel('#Vulnerabilities')\n",
    "\n",
    "    plt.setp([a.get_xticklabels() for a in f.axes[:-1]], visible=False)\n",
    "\n",
    "    plt.savefig('msr2019/img/repoXNumVuln'+suffix+'.pdf', dpi=200, bbox_inches='tight')\n",
    "\n",
    "printvulnXrepo(df_pos)\n",
    "printvulnXrepo(df_pos_dedup,'DEDUP')\n"
   ]
  },
  {
   "cell_type": "markdown",
   "metadata": {},
   "source": [
    "### Vulnerabilities per year"
   ]
  },
  {
   "cell_type": "code",
   "execution_count": null,
   "metadata": {},
   "outputs": [],
   "source": [
    "def getYear(vuln_id):\n",
    "    LOOKUP_TABLE_YEAR = {\n",
    "        \"413684\" : \"2013\",\n",
    "        \"SONARQUBE-001\" : \"2018\",\n",
    "        \"NIFI-4436\" : \"2017\",\n",
    "        \"HADOOP-14246\" : \"2017\",\n",
    "        \"HDFS-10276\" : \"2016\",\n",
    "        \"ND4J-001\" : \"2018\",\n",
    "        \"APACHE-COMMONS-001\" : \"2018\",\n",
    "        \"HADOOP-13105\" : \"2016\",\n",
    "        \"HADOOP-12001\" : \"2015\",\n",
    "        \"HADOOP-15212\" : \"2018\",\n",
    "        \"APACHE-AXIS2-5683\" : \"2015\",\n",
    "        \"S2-028\" : \"2017\",\n",
    "        \"PLEXUS-ARCHIVER-87\" : \"2018\",\n",
    "        \"HADOOP-12751\" : \"2016\",\n",
    "        \"JAVAMELODY-252\" : \"2015\",\n",
    "        \"PT-2013-65\" : \"2013\",\n",
    "        \"SPR-7779\" : \"2010\",\n",
    "        \"HTTPCLIENT-1803\" : \"2017\",\n",
    "        \"PRIMEFACES-1194\" : \"2016\",\n",
    "        \"JAVAMELODY-631\" : \"2017\",\n",
    "        \"ZEPPELIN-2769\" : \"2017\",\n",
    "        \"APACHE-AXIS2-5846\" : \"2017\",\n",
    "        \"AMQ-5751\" : \"2015\",\n",
    "        \"AMQP-590\": \"2016\",\n",
    "        \"2012-05-05\" : \"2012\",\n",
    "        \"HUDSON-483532\" : \"2015\",\n",
    "        \"GEODE-4270\" : \"2018\",\n",
    "        \"S2-043\" : \"2016\",\n",
    "        \"JETTY-1042\" : \"2009\",\n",
    "        \"COLLECTIONS-580\": '2015',\n",
    "        \"PDFBOX-3341\":\"2016\"\n",
    "    }\n",
    "    z = re.search(r'(?<=CVE-)\\d{4}',vuln_id)\n",
    "    if(z is not None):\n",
    "        year = z.group(0)\n",
    "    else:\n",
    "        year = LOOKUP_TABLE_YEAR[vuln_id]\n",
    "    return year\n",
    "\n",
    "def checkNVD(vuln_id):\n",
    "    url = 'https://nvd.nist.gov/vuln/detail/'+vuln_id\n",
    "#     print('Checking the NVD for ' + url)\n",
    "    r = requests.get('https://nvd.nist.gov/vuln/detail/'+vuln_id)\n",
    "    if r.status_code!=200 :\n",
    "        return False\n",
    "    if 'CVE ID Not Found' in r.text:\n",
    "        return False\n",
    "    if 'Vuln ID, expected format: CVE-'  in r.text:\n",
    "        return False\n",
    "    return True\n",
    "        "
   ]
  },
  {
   "cell_type": "code",
   "execution_count": null,
   "metadata": {},
   "outputs": [],
   "source": [
    "def printVulnXYear(df,suffix=''):\n",
    "    df_vuln=df.loc[df['cls']==POS_CLS,['vuln_id']].drop_duplicates(subset=None, keep='first', inplace=False)\n",
    "\n",
    "    print(\"Number of distinct vuln : {}\".format(len(df_vuln)))\n",
    "\n",
    "    df_vuln['year'] = df_vuln['vuln_id'].apply(lambda x: getYear(x))\n",
    "\n",
    "    # Create figure\n",
    "    f, ax1 = plt.subplots(figsize=(5,4), dpi=200)\n",
    "\n",
    "    df_vuln.groupby('year').count().plot(kind='bar',ax=ax1)\n",
    "\n",
    "    #ax1.legend(loc=(0.65,0.05))\n",
    "    ax1.legend().set_visible(False)\n",
    "\n",
    "    f.subplots_adjust(hspace=0.1)\n",
    "    #plt.xticks([0.1, 0.2, 0.3, 0.4, 0.5, 0.6, 0.7, 0.8, 0.9])\n",
    "\n",
    "    ax1.grid(False)\n",
    "    # ax1.set_title('msg', x=0.92, y=0.05)\n",
    "    #ax1.set_title('# Repo', x=0.52, y=0.85)\n",
    "    plt.ylabel('#Vulnerabilities')\n",
    "\n",
    "    plt.setp([a.get_xticklabels() for a in f.axes[:-1]], visible=False)\n",
    "\n",
    "    plt.savefig('msr2019/img/vulnXYear'+suffix+'.pdf', dpi=200, bbox_inches='tight')\n",
    "    \n",
    "printVulnXYear(df_pos)\n",
    "printVulnXYear(df_pos_dedup,'DEDUP')"
   ]
  },
  {
   "cell_type": "code",
   "execution_count": null,
   "metadata": {},
   "outputs": [],
   "source": [
    "def populateInNvd(df):\n",
    "    count=0\n",
    "    for i, row in df.iterrows():\n",
    "        #print('https://nvd.nist.gov/vuln/detail/'+x)\n",
    "        count += 1\n",
    "        print('.', end = '')\n",
    "        if not count % 50:\n",
    "            print(' ' + str(count) + '\\n')\n",
    "        check_outcome = checkNVD(df.at[i,'vuln_id'])\n",
    "        df.at[i,'in_nvd'] = check_outcome\n",
    "    print('\\n')\n",
    "        \n",
    "populateInNvd(df_pos)\n",
    "populateInNvd(df_pos_dedup)"
   ]
  },
  {
   "cell_type": "code",
   "execution_count": null,
   "metadata": {},
   "outputs": [],
   "source": [
    "len(df_pos_dedup)"
   ]
  },
  {
   "cell_type": "code",
   "execution_count": null,
   "metadata": {},
   "outputs": [],
   "source": [
    "def countNVDStats(df,suffix=''):\n",
    "    vulns_all_count = df.vuln_id.nunique()\n",
    "    le.save('ALLVULNSCOUNT' +suffix,\n",
    "            vulns_all_count,\n",
    "            \"Number of distinct vulnerabilities in the dataset \" + suffix)\n",
    "\n",
    "    vulns_nvd_count = df[df['in_nvd'] == 1.0 ].vuln_id.nunique()\n",
    "    le.save('ALLVULNSINNVD'+suffix,\n",
    "        vulns_nvd_count,\n",
    "        'Number of vulnerabilities found in the NVD '  + suffix)\n",
    "\n",
    "    cves_no_nvd_count = vulns_all_count - vulns_nvd_count\n",
    "    le.save('CVENONVD'+suffix,\n",
    "        cves_no_nvd_count,\n",
    "        'Number of vulnerabilities that have a CVE but are not found in the NVD '  + suffix)\n",
    "\n",
    "    cves_count = len(df[df['vuln_id'].str.contains('CVE-')]['vuln_id'].unique())\n",
    "    le.save('VULNSNOCVE'+suffix,\n",
    "        vulns_all_count - cves_count,\n",
    "        'Number of vulnerabilities that do not have a CVE name '  + suffix)\n",
    "    \n",
    "countNVDStats(df_pos)\n",
    "countNVDStats(df_pos_dedup,'DEDUP')"
   ]
  },
  {
   "cell_type": "markdown",
   "metadata": {},
   "source": [
    "### Export stats to LaTeX"
   ]
  },
  {
   "cell_type": "code",
   "execution_count": null,
   "metadata": {},
   "outputs": [],
   "source": [
    "le.to_file('msr2019/tex/data_from_notebook.tex')"
   ]
  },
  {
   "cell_type": "code",
   "execution_count": null,
   "metadata": {},
   "outputs": [],
   "source": []
  }
 ],
 "metadata": {
  "kernelspec": {
   "display_name": "Python 3",
   "language": "python",
   "name": "python3"
  },
  "language_info": {
   "codemirror_mode": {
    "name": "ipython",
    "version": 3
   },
   "file_extension": ".py",
   "mimetype": "text/x-python",
   "name": "python",
   "nbconvert_exporter": "python",
   "pygments_lexer": "ipython3",
   "version": "3.5.2"
  }
 },
 "nbformat": 4,
 "nbformat_minor": 2
}
